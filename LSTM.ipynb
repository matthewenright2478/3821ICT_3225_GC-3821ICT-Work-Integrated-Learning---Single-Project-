{
 "cells": [
  {
   "cell_type": "code",
   "execution_count": 158,
   "id": "b14c5ae2",
   "metadata": {},
   "outputs": [],
   "source": [
    "import math\n",
    "import numpy as np\n",
    "from numpy import array\n",
    "from numpy import hstack\n",
    "from keras.models import Sequential\n",
    "from keras.layers import LSTM\n",
    "from keras.layers import Dense\n",
    "import pandas as pd\n",
    "from sklearn.preprocessing import MinMaxScaler\n",
    "from sklearn.preprocessing import LabelEncoder\n",
    "import matplotlib.pyplot as plt"
   ]
  },
  {
   "cell_type": "code",
   "execution_count": 210,
   "id": "a94f2d34",
   "metadata": {},
   "outputs": [],
   "source": [
    "dataset = pd.read_csv('./Data/mergedFiles(2).csv', header=0, index_col=0, usecols=[0, 1,2,27,28])\n",
    "values = dataset.values\n",
    "values = values.astype('float32')"
   ]
  },
  {
   "cell_type": "code",
   "execution_count": 211,
   "id": "e4743d0b",
   "metadata": {},
   "outputs": [
    {
     "data": {
      "text/html": [
       "<div>\n",
       "<style scoped>\n",
       "    .dataframe tbody tr th:only-of-type {\n",
       "        vertical-align: middle;\n",
       "    }\n",
       "\n",
       "    .dataframe tbody tr th {\n",
       "        vertical-align: top;\n",
       "    }\n",
       "\n",
       "    .dataframe thead th {\n",
       "        text-align: right;\n",
       "    }\n",
       "</style>\n",
       "<table border=\"1\" class=\"dataframe\">\n",
       "  <thead>\n",
       "    <tr style=\"text-align: right;\">\n",
       "      <th></th>\n",
       "      <th>Byron Bay (Belongil Creek)</th>\n",
       "      <th>Clarrie Hall Dam (Doon Doon Creek)</th>\n",
       "      <th>Mullumbimby (Upper Main Arm).1</th>\n",
       "      <th>Goonengerry.1</th>\n",
       "    </tr>\n",
       "    <tr>\n",
       "      <th>date</th>\n",
       "      <th></th>\n",
       "      <th></th>\n",
       "      <th></th>\n",
       "      <th></th>\n",
       "    </tr>\n",
       "  </thead>\n",
       "  <tbody>\n",
       "    <tr>\n",
       "      <th>2006-02-08</th>\n",
       "      <td>2.75</td>\n",
       "      <td>2.50</td>\n",
       "      <td>3.0</td>\n",
       "      <td>5.0</td>\n",
       "    </tr>\n",
       "    <tr>\n",
       "      <th>2006-02-09</th>\n",
       "      <td>0.25</td>\n",
       "      <td>2.00</td>\n",
       "      <td>0.5</td>\n",
       "      <td>0.5</td>\n",
       "    </tr>\n",
       "    <tr>\n",
       "      <th>2006-02-12</th>\n",
       "      <td>6.50</td>\n",
       "      <td>19.50</td>\n",
       "      <td>7.0</td>\n",
       "      <td>10.5</td>\n",
       "    </tr>\n",
       "    <tr>\n",
       "      <th>2006-02-13</th>\n",
       "      <td>7.00</td>\n",
       "      <td>21.75</td>\n",
       "      <td>0.0</td>\n",
       "      <td>4.0</td>\n",
       "    </tr>\n",
       "    <tr>\n",
       "      <th>2006-02-14</th>\n",
       "      <td>0.00</td>\n",
       "      <td>0.75</td>\n",
       "      <td>5.5</td>\n",
       "      <td>0.0</td>\n",
       "    </tr>\n",
       "  </tbody>\n",
       "</table>\n",
       "</div>"
      ],
      "text/plain": [
       "            Byron Bay (Belongil Creek)  Clarrie Hall Dam (Doon Doon Creek)  \\\n",
       "date                                                                         \n",
       "2006-02-08                        2.75                                2.50   \n",
       "2006-02-09                        0.25                                2.00   \n",
       "2006-02-12                        6.50                               19.50   \n",
       "2006-02-13                        7.00                               21.75   \n",
       "2006-02-14                        0.00                                0.75   \n",
       "\n",
       "            Mullumbimby (Upper Main Arm).1  Goonengerry.1  \n",
       "date                                                       \n",
       "2006-02-08                             3.0            5.0  \n",
       "2006-02-09                             0.5            0.5  \n",
       "2006-02-12                             7.0           10.5  \n",
       "2006-02-13                             0.0            4.0  \n",
       "2006-02-14                             5.5            0.0  "
      ]
     },
     "execution_count": 211,
     "metadata": {},
     "output_type": "execute_result"
    }
   ],
   "source": [
    "dataset.head()"
   ]
  },
  {
   "cell_type": "code",
   "execution_count": 212,
   "id": "383ba2f3",
   "metadata": {},
   "outputs": [],
   "source": [
    "def series_to_supervised(data, n_in=1, n_out=1, dropnan=True):\n",
    "    n_vars = 1 if type(data) is list else data.shape[1]\n",
    "    df = pd.DataFrame(data)\n",
    "    cols, names = list(), list()\n",
    "    for i in range(n_in, 0, -1):\n",
    "        cols.append(df.shift(i))\n",
    "        names += [('var%d(t-%d)' % (j+1, i)) for j in range(n_vars)]\n",
    "    for i in range(0, n_out):\n",
    "        cols.append(df.shift(-i))\n",
    "        if i == 0:\n",
    "            names += [('var%d(t)' % (j+1)) for j in range(n_vars)]\n",
    "        else:\n",
    "            names += [('var%d(t+%d)' % (j+1, i)) for j in range(n_vars)]\n",
    "    agg = pd.concat(cols, axis=1)\n",
    "    agg.columns = names\n",
    "    if dropnan:\n",
    "        agg.dropna(inplace=True)\n",
    "    return agg"
   ]
  },
  {
   "cell_type": "code",
   "execution_count": 213,
   "id": "5b211020",
   "metadata": {},
   "outputs": [
    {
     "name": "stdout",
     "output_type": "stream",
     "text": [
      "   var1(t-1)  var2(t-1)  var3(t-1)  var4(t-1)   var1(t)   var2(t)   var3(t)  \\\n",
      "1   0.001665   0.002796   0.003929   0.061728  0.000151  0.002237  0.000655   \n",
      "2   0.000151   0.002237   0.000655   0.006173  0.003936  0.021812  0.009168   \n",
      "3   0.003936   0.021812   0.009168   0.129630  0.004239  0.024329  0.000000   \n",
      "4   0.004239   0.024329   0.000000   0.049383  0.000000  0.000839  0.007204   \n",
      "5   0.000000   0.000839   0.007204   0.000000  0.004087  0.023490  0.029470   \n",
      "\n",
      "    var4(t)  \n",
      "1  0.006173  \n",
      "2  0.129630  \n",
      "3  0.049383  \n",
      "4  0.000000  \n",
      "5  0.166667  \n"
     ]
    }
   ],
   "source": [
    "values = dataset.values\n",
    "# integer encode direction\n",
    "encoder = LabelEncoder()\n",
    "values[:,-1] = encoder.fit_transform(values[:,-1])\n",
    "# ensure all data is float\n",
    "values = values.astype('float32')\n",
    "# normalize features\n",
    "scaler = MinMaxScaler(feature_range=(0, 1))\n",
    "scaled = scaler.fit_transform(values)\n",
    "# frame as supervised learning\n",
    "reframed = series_to_supervised(scaled, 1, 1)\n",
    "# drop columns we don't want to predict\n",
    "print(reframed.head())"
   ]
  },
  {
   "cell_type": "code",
   "execution_count": 214,
   "id": "651cb7de",
   "metadata": {},
   "outputs": [
    {
     "name": "stdout",
     "output_type": "stream",
     "text": [
      "(2015, 1, 7) (2015,) (504, 1, 7) (504,)\n"
     ]
    }
   ],
   "source": [
    "values = reframed.values\n",
    "train_size  = int(len(values) * 0.80)\n",
    "test_size   = len(values) - train_size\n",
    "train, test = values[0:train_size,:], values[train_size:len(dataset),:]\n",
    "train_X, train_y = train[:, :-1], train[:, -1]\n",
    "test_X, test_y = test[:, :-1], test[:, -1]\n",
    "train_X = train_X.reshape((train_X.shape[0], 1, train_X.shape[1]))\n",
    "test_X = test_X.reshape((test_X.shape[0], 1, test_X.shape[1]))\n",
    "print(train_X.shape, train_y.shape, test_X.shape, test_y.shape)"
   ]
  },
  {
   "cell_type": "code",
   "execution_count": 215,
   "id": "f1031116",
   "metadata": {},
   "outputs": [
    {
     "name": "stdout",
     "output_type": "stream",
     "text": [
      "Epoch 1/50\n",
      "2015/2015 - 7s - loss: 0.0198 - val_loss: 0.0178 - 7s/epoch - 3ms/step\n",
      "Epoch 2/50\n",
      "2015/2015 - 4s - loss: 0.0164 - val_loss: 0.0198 - 4s/epoch - 2ms/step\n",
      "Epoch 3/50\n",
      "2015/2015 - 4s - loss: 0.0160 - val_loss: 0.0204 - 4s/epoch - 2ms/step\n",
      "Epoch 4/50\n",
      "2015/2015 - 4s - loss: 0.0157 - val_loss: 0.0205 - 4s/epoch - 2ms/step\n",
      "Epoch 5/50\n",
      "2015/2015 - 3s - loss: 0.0154 - val_loss: 0.0205 - 3s/epoch - 2ms/step\n",
      "Epoch 6/50\n",
      "2015/2015 - 4s - loss: 0.0151 - val_loss: 0.0202 - 4s/epoch - 2ms/step\n",
      "Epoch 7/50\n",
      "2015/2015 - 4s - loss: 0.0147 - val_loss: 0.0198 - 4s/epoch - 2ms/step\n",
      "Epoch 8/50\n",
      "2015/2015 - 4s - loss: 0.0144 - val_loss: 0.0193 - 4s/epoch - 2ms/step\n",
      "Epoch 9/50\n",
      "2015/2015 - 4s - loss: 0.0140 - val_loss: 0.0187 - 4s/epoch - 2ms/step\n",
      "Epoch 10/50\n",
      "2015/2015 - 4s - loss: 0.0136 - val_loss: 0.0181 - 4s/epoch - 2ms/step\n",
      "Epoch 11/50\n",
      "2015/2015 - 4s - loss: 0.0132 - val_loss: 0.0174 - 4s/epoch - 2ms/step\n",
      "Epoch 12/50\n",
      "2015/2015 - 3s - loss: 0.0127 - val_loss: 0.0166 - 3s/epoch - 2ms/step\n",
      "Epoch 13/50\n",
      "2015/2015 - 4s - loss: 0.0122 - val_loss: 0.0158 - 4s/epoch - 2ms/step\n",
      "Epoch 14/50\n",
      "2015/2015 - 4s - loss: 0.0117 - val_loss: 0.0149 - 4s/epoch - 2ms/step\n",
      "Epoch 15/50\n",
      "2015/2015 - 3s - loss: 0.0111 - val_loss: 0.0140 - 3s/epoch - 2ms/step\n",
      "Epoch 16/50\n",
      "2015/2015 - 3s - loss: 0.0105 - val_loss: 0.0131 - 3s/epoch - 2ms/step\n",
      "Epoch 17/50\n",
      "2015/2015 - 3s - loss: 0.0099 - val_loss: 0.0122 - 3s/epoch - 2ms/step\n",
      "Epoch 18/50\n",
      "2015/2015 - 3s - loss: 0.0093 - val_loss: 0.0113 - 3s/epoch - 2ms/step\n",
      "Epoch 19/50\n",
      "2015/2015 - 3s - loss: 0.0086 - val_loss: 0.0104 - 3s/epoch - 2ms/step\n",
      "Epoch 20/50\n",
      "2015/2015 - 3s - loss: 0.0080 - val_loss: 0.0096 - 3s/epoch - 2ms/step\n",
      "Epoch 21/50\n",
      "2015/2015 - 3s - loss: 0.0075 - val_loss: 0.0089 - 3s/epoch - 2ms/step\n",
      "Epoch 22/50\n",
      "2015/2015 - 4s - loss: 0.0070 - val_loss: 0.0083 - 4s/epoch - 2ms/step\n",
      "Epoch 23/50\n",
      "2015/2015 - 4s - loss: 0.0065 - val_loss: 0.0077 - 4s/epoch - 2ms/step\n",
      "Epoch 24/50\n",
      "2015/2015 - 3s - loss: 0.0062 - val_loss: 0.0072 - 3s/epoch - 2ms/step\n",
      "Epoch 25/50\n",
      "2015/2015 - 4s - loss: 0.0058 - val_loss: 0.0069 - 4s/epoch - 2ms/step\n",
      "Epoch 26/50\n",
      "2015/2015 - 4s - loss: 0.0056 - val_loss: 0.0065 - 4s/epoch - 2ms/step\n",
      "Epoch 27/50\n",
      "2015/2015 - 4s - loss: 0.0054 - val_loss: 0.0063 - 4s/epoch - 2ms/step\n",
      "Epoch 28/50\n",
      "2015/2015 - 4s - loss: 0.0052 - val_loss: 0.0060 - 4s/epoch - 2ms/step\n",
      "Epoch 29/50\n",
      "2015/2015 - 4s - loss: 0.0050 - val_loss: 0.0059 - 4s/epoch - 2ms/step\n",
      "Epoch 30/50\n",
      "2015/2015 - 4s - loss: 0.0049 - val_loss: 0.0057 - 4s/epoch - 2ms/step\n",
      "Epoch 31/50\n",
      "2015/2015 - 4s - loss: 0.0048 - val_loss: 0.0056 - 4s/epoch - 2ms/step\n",
      "Epoch 32/50\n",
      "2015/2015 - 4s - loss: 0.0047 - val_loss: 0.0055 - 4s/epoch - 2ms/step\n",
      "Epoch 33/50\n",
      "2015/2015 - 4s - loss: 0.0046 - val_loss: 0.0054 - 4s/epoch - 2ms/step\n",
      "Epoch 34/50\n",
      "2015/2015 - 4s - loss: 0.0046 - val_loss: 0.0053 - 4s/epoch - 2ms/step\n",
      "Epoch 35/50\n",
      "2015/2015 - 4s - loss: 0.0045 - val_loss: 0.0053 - 4s/epoch - 2ms/step\n",
      "Epoch 36/50\n",
      "2015/2015 - 4s - loss: 0.0045 - val_loss: 0.0052 - 4s/epoch - 2ms/step\n",
      "Epoch 37/50\n",
      "2015/2015 - 4s - loss: 0.0045 - val_loss: 0.0052 - 4s/epoch - 2ms/step\n",
      "Epoch 38/50\n",
      "2015/2015 - 4s - loss: 0.0044 - val_loss: 0.0051 - 4s/epoch - 2ms/step\n",
      "Epoch 39/50\n",
      "2015/2015 - 4s - loss: 0.0044 - val_loss: 0.0051 - 4s/epoch - 2ms/step\n",
      "Epoch 40/50\n",
      "2015/2015 - 4s - loss: 0.0044 - val_loss: 0.0050 - 4s/epoch - 2ms/step\n",
      "Epoch 41/50\n",
      "2015/2015 - 4s - loss: 0.0044 - val_loss: 0.0050 - 4s/epoch - 2ms/step\n",
      "Epoch 42/50\n",
      "2015/2015 - 4s - loss: 0.0044 - val_loss: 0.0050 - 4s/epoch - 2ms/step\n",
      "Epoch 43/50\n",
      "2015/2015 - 4s - loss: 0.0043 - val_loss: 0.0049 - 4s/epoch - 2ms/step\n",
      "Epoch 44/50\n",
      "2015/2015 - 5s - loss: 0.0043 - val_loss: 0.0049 - 5s/epoch - 2ms/step\n",
      "Epoch 45/50\n",
      "2015/2015 - 4s - loss: 0.0043 - val_loss: 0.0049 - 4s/epoch - 2ms/step\n",
      "Epoch 46/50\n",
      "2015/2015 - 4s - loss: 0.0043 - val_loss: 0.0049 - 4s/epoch - 2ms/step\n",
      "Epoch 47/50\n",
      "2015/2015 - 4s - loss: 0.0043 - val_loss: 0.0048 - 4s/epoch - 2ms/step\n",
      "Epoch 48/50\n",
      "2015/2015 - 4s - loss: 0.0043 - val_loss: 0.0048 - 4s/epoch - 2ms/step\n",
      "Epoch 49/50\n",
      "2015/2015 - 4s - loss: 0.0043 - val_loss: 0.0048 - 4s/epoch - 2ms/step\n",
      "Epoch 50/50\n",
      "2015/2015 - 4s - loss: 0.0043 - val_loss: 0.0048 - 4s/epoch - 2ms/step\n"
     ]
    },
    {
     "data": {
      "image/png": "[encoded data removed]",
      "text/plain": [
       "<Figure size 432x288 with 1 Axes>"
      ]
     },
     "metadata": {
      "needs_background": "light"
     },
     "output_type": "display_data"
    }
   ],
   "source": [
    "model = Sequential()\n",
    "model.add(LSTM(50, input_shape=(train_X.shape[1], train_X.shape[2])))\n",
    "model.add(Dense(1))\n",
    "model.compile(loss='mean_squared_error', optimizer='adam')\n",
    "history = model.fit(train_X, train_y, epochs=50, batch_size=1, validation_data=(test_X, test_y), verbose=2, shuffle=False)\n",
    "plt.plot(history.history['loss'], label='train')\n",
    "plt.plot(history.history['val_loss'], label='test')\n",
    "plt.legend()\n",
    "plt.show()"
   ]
  },
  {
   "cell_type": "code",
   "execution_count": 216,
   "id": "95a66ba6",
   "metadata": {},
   "outputs": [
    {
     "name": "stdout",
     "output_type": "stream",
     "text": [
      "Model: \"sequential_27\"\n",
      "_________________________________________________________________\n",
      " Layer (type)                Output Shape              Param #   \n",
      "=================================================================\n",
      " lstm_18 (LSTM)              (None, 50)                11600     \n",
      "                                                                 \n",
      " dense_18 (Dense)            (None, 1)                 51        \n",
      "                                                                 \n",
      "=================================================================\n",
      "Total params: 11,651\n",
      "Trainable params: 11,651\n",
      "Non-trainable params: 0\n",
      "_________________________________________________________________\n",
      "Train Score: 0.07 RMSE\n",
      "Test Score: 0.07 RMSE\n"
     ]
    }
   ],
   "source": [
    "model.summary()\n",
    "trainScore = model.evaluate(train_X, train_y, verbose=0)\n",
    "trainScore = math.sqrt(trainScore)\n",
    "print('Train Score: %.2f RMSE' % (trainScore))\n",
    "testScore = model.evaluate(test_X, test_y, verbose=0)\n",
    "testScore = math.sqrt(testScore)\n",
    "print('Test Score: %.2f RMSE' % (testScore))"
   ]
  },
  {
   "cell_type": "code",
   "execution_count": 202,
   "id": "39d578f0",
   "metadata": {},
   "outputs": [],
   "source": [
    "model.save('LSTM.h5')"
   ]
  },
  {
   "cell_type": "code",
   "execution_count": 232,
   "id": "0a9031a2",
   "metadata": {},
   "outputs": [
    {
     "name": "stdout",
     "output_type": "stream",
     "text": [
      "(2517, 16)\n"
     ]
    }
   ],
   "source": [
    "n_hours = 3\n",
    "n_features = 10\n",
    "# frame as supervised learning\n",
    "reframed = series_to_supervised(scaled, n_hours, 1)\n",
    "print(reframed.shape)"
   ]
  },
  {
   "cell_type": "code",
   "execution_count": 233,
   "id": "15fc1b3a",
   "metadata": {},
   "outputs": [],
   "source": [
    "values = reframed.values\n",
    "n_train_hours = 4000\n",
    "train = values[:n_train_hours, :]\n",
    "test = values[n_train_hours:, :]"
   ]
  },
  {
   "cell_type": "code",
   "execution_count": 234,
   "id": "eac79e4c",
   "metadata": {},
   "outputs": [
    {
     "name": "stdout",
     "output_type": "stream",
     "text": [
      "(2517, 16) 2517 (2517,)\n"
     ]
    }
   ],
   "source": [
    "# split into input and outputs\n",
    "n_obs = n_hours * n_features\n",
    "train_X, train_y = train[:, :n_obs], train[:, -n_features]\n",
    "test_X, test_y = test[:, :n_obs], test[:, -n_features]\n",
    "print(train_X.shape, len(train_X), train_y.shape)"
   ]
  },
  {
   "cell_type": "code",
   "execution_count": 235,
   "id": "80bf0cab",
   "metadata": {},
   "outputs": [
    {
     "ename": "ValueError",
     "evalue": "cannot reshape array of size 40272 into shape (2517,3,10)",
     "output_type": "error",
     "traceback": [
      "\u001b[0;31m---------------------------------------------------------------------------\u001b[0m",
      "\u001b[0;31mValueError\u001b[0m                                Traceback (most recent call last)",
      "Input \u001b[0;32mIn [235]\u001b[0m, in \u001b[0;36m<cell line: 1>\u001b[0;34m()\u001b[0m\n\u001b[0;32m----> 1\u001b[0m train_X \u001b[38;5;241m=\u001b[39m \u001b[43mtrain_X\u001b[49m\u001b[38;5;241;43m.\u001b[39;49m\u001b[43mreshape\u001b[49m\u001b[43m(\u001b[49m\u001b[43m(\u001b[49m\u001b[43mtrain_X\u001b[49m\u001b[38;5;241;43m.\u001b[39;49m\u001b[43mshape\u001b[49m\u001b[43m[\u001b[49m\u001b[38;5;241;43m0\u001b[39;49m\u001b[43m]\u001b[49m\u001b[43m,\u001b[49m\u001b[43m \u001b[49m\u001b[43mn_hours\u001b[49m\u001b[43m,\u001b[49m\u001b[43m \u001b[49m\u001b[43mn_features\u001b[49m\u001b[43m)\u001b[49m\u001b[43m)\u001b[49m\n\u001b[1;32m      2\u001b[0m test_X \u001b[38;5;241m=\u001b[39m test_X\u001b[38;5;241m.\u001b[39mreshape((test_X\u001b[38;5;241m.\u001b[39mshape[\u001b[38;5;241m0\u001b[39m], n_hours, n_features))\n\u001b[1;32m      3\u001b[0m \u001b[38;5;28mprint\u001b[39m(train_X\u001b[38;5;241m.\u001b[39mshape, train_y\u001b[38;5;241m.\u001b[39mshape, test_X\u001b[38;5;241m.\u001b[39mshape, test_y\u001b[38;5;241m.\u001b[39mshape)\n",
      "\u001b[0;31mValueError\u001b[0m: cannot reshape array of size 40272 into shape (2517,3,10)"
     ]
    }
   ],
   "source": [
    "train_X = train_X.reshape((train_X.shape[0], n_hours, n_features))\n",
    "test_X = test_X.reshape((test_X.shape[0], n_hours, n_features))\n",
    "print(train_X.shape, train_y.shape, test_X.shape, test_y.shape)"
   ]
  },
  {
   "cell_type": "code",
   "execution_count": 193,
   "id": "89eff3df",
   "metadata": {},
   "outputs": [
    {
     "name": "stdout",
     "output_type": "stream",
     "text": [
      "Epoch 1/50\n",
      "1800/1800 - 8s - loss: 0.0016 - val_loss: 0.0027 - 8s/epoch - 4ms/step\n",
      "Epoch 2/50\n",
      "1800/1800 - 4s - loss: 0.0015 - val_loss: 0.0016 - 4s/epoch - 2ms/step\n",
      "Epoch 3/50\n",
      "1800/1800 - 4s - loss: 0.0015 - val_loss: 0.0014 - 4s/epoch - 2ms/step\n",
      "Epoch 4/50\n",
      "1800/1800 - 4s - loss: 0.0015 - val_loss: 0.0014 - 4s/epoch - 2ms/step\n",
      "Epoch 5/50\n",
      "1800/1800 - 4s - loss: 0.0015 - val_loss: 0.0014 - 4s/epoch - 2ms/step\n",
      "Epoch 6/50\n",
      "1800/1800 - 4s - loss: 0.0015 - val_loss: 0.0014 - 4s/epoch - 2ms/step\n",
      "Epoch 7/50\n",
      "1800/1800 - 4s - loss: 0.0015 - val_loss: 0.0014 - 4s/epoch - 2ms/step\n",
      "Epoch 8/50\n",
      "1800/1800 - 4s - loss: 0.0015 - val_loss: 0.0014 - 4s/epoch - 2ms/step\n",
      "Epoch 9/50\n",
      "1800/1800 - 4s - loss: 0.0015 - val_loss: 0.0015 - 4s/epoch - 2ms/step\n",
      "Epoch 10/50\n",
      "1800/1800 - 4s - loss: 0.0015 - val_loss: 0.0015 - 4s/epoch - 2ms/step\n",
      "Epoch 11/50\n",
      "1800/1800 - 4s - loss: 0.0015 - val_loss: 0.0015 - 4s/epoch - 2ms/step\n",
      "Epoch 12/50\n",
      "1800/1800 - 4s - loss: 0.0015 - val_loss: 0.0015 - 4s/epoch - 2ms/step\n",
      "Epoch 13/50\n",
      "1800/1800 - 4s - loss: 0.0015 - val_loss: 0.0015 - 4s/epoch - 2ms/step\n",
      "Epoch 14/50\n",
      "1800/1800 - 4s - loss: 0.0015 - val_loss: 0.0015 - 4s/epoch - 2ms/step\n",
      "Epoch 15/50\n",
      "1800/1800 - 4s - loss: 0.0015 - val_loss: 0.0015 - 4s/epoch - 2ms/step\n",
      "Epoch 16/50\n",
      "1800/1800 - 4s - loss: 0.0014 - val_loss: 0.0015 - 4s/epoch - 2ms/step\n",
      "Epoch 17/50\n",
      "1800/1800 - 4s - loss: 0.0014 - val_loss: 0.0015 - 4s/epoch - 2ms/step\n",
      "Epoch 18/50\n",
      "1800/1800 - 4s - loss: 0.0014 - val_loss: 0.0015 - 4s/epoch - 2ms/step\n",
      "Epoch 19/50\n",
      "1800/1800 - 4s - loss: 0.0014 - val_loss: 0.0015 - 4s/epoch - 2ms/step\n",
      "Epoch 20/50\n",
      "1800/1800 - 4s - loss: 0.0014 - val_loss: 0.0015 - 4s/epoch - 2ms/step\n",
      "Epoch 21/50\n",
      "1800/1800 - 4s - loss: 0.0014 - val_loss: 0.0015 - 4s/epoch - 2ms/step\n",
      "Epoch 22/50\n",
      "1800/1800 - 4s - loss: 0.0014 - val_loss: 0.0015 - 4s/epoch - 2ms/step\n",
      "Epoch 23/50\n",
      "1800/1800 - 4s - loss: 0.0014 - val_loss: 0.0015 - 4s/epoch - 2ms/step\n",
      "Epoch 24/50\n",
      "1800/1800 - 4s - loss: 0.0014 - val_loss: 0.0015 - 4s/epoch - 2ms/step\n",
      "Epoch 25/50\n",
      "1800/1800 - 4s - loss: 0.0014 - val_loss: 0.0015 - 4s/epoch - 2ms/step\n",
      "Epoch 26/50\n",
      "1800/1800 - 4s - loss: 0.0014 - val_loss: 0.0015 - 4s/epoch - 2ms/step\n",
      "Epoch 27/50\n",
      "1800/1800 - 4s - loss: 0.0014 - val_loss: 0.0015 - 4s/epoch - 2ms/step\n",
      "Epoch 28/50\n",
      "1800/1800 - 4s - loss: 0.0014 - val_loss: 0.0015 - 4s/epoch - 2ms/step\n",
      "Epoch 29/50\n",
      "1800/1800 - 4s - loss: 0.0014 - val_loss: 0.0015 - 4s/epoch - 2ms/step\n",
      "Epoch 30/50\n",
      "1800/1800 - 4s - loss: 0.0014 - val_loss: 0.0015 - 4s/epoch - 2ms/step\n",
      "Epoch 31/50\n",
      "1800/1800 - 4s - loss: 0.0014 - val_loss: 0.0015 - 4s/epoch - 2ms/step\n",
      "Epoch 32/50\n",
      "1800/1800 - 4s - loss: 0.0014 - val_loss: 0.0015 - 4s/epoch - 2ms/step\n",
      "Epoch 33/50\n",
      "1800/1800 - 4s - loss: 0.0014 - val_loss: 0.0015 - 4s/epoch - 2ms/step\n",
      "Epoch 34/50\n",
      "1800/1800 - 4s - loss: 0.0014 - val_loss: 0.0015 - 4s/epoch - 2ms/step\n",
      "Epoch 35/50\n",
      "1800/1800 - 4s - loss: 0.0014 - val_loss: 0.0015 - 4s/epoch - 2ms/step\n",
      "Epoch 36/50\n",
      "1800/1800 - 4s - loss: 0.0014 - val_loss: 0.0015 - 4s/epoch - 2ms/step\n",
      "Epoch 37/50\n",
      "1800/1800 - 4s - loss: 0.0014 - val_loss: 0.0015 - 4s/epoch - 2ms/step\n",
      "Epoch 38/50\n",
      "1800/1800 - 4s - loss: 0.0014 - val_loss: 0.0015 - 4s/epoch - 2ms/step\n",
      "Epoch 39/50\n",
      "1800/1800 - 4s - loss: 0.0014 - val_loss: 0.0015 - 4s/epoch - 2ms/step\n",
      "Epoch 40/50\n",
      "1800/1800 - 4s - loss: 0.0014 - val_loss: 0.0015 - 4s/epoch - 2ms/step\n",
      "Epoch 41/50\n",
      "1800/1800 - 4s - loss: 0.0014 - val_loss: 0.0015 - 4s/epoch - 2ms/step\n",
      "Epoch 42/50\n",
      "1800/1800 - 4s - loss: 0.0014 - val_loss: 0.0015 - 4s/epoch - 2ms/step\n",
      "Epoch 43/50\n",
      "1800/1800 - 4s - loss: 0.0014 - val_loss: 0.0015 - 4s/epoch - 2ms/step\n",
      "Epoch 44/50\n",
      "1800/1800 - 4s - loss: 0.0014 - val_loss: 0.0015 - 4s/epoch - 2ms/step\n",
      "Epoch 45/50\n",
      "1800/1800 - 4s - loss: 0.0014 - val_loss: 0.0015 - 4s/epoch - 2ms/step\n",
      "Epoch 46/50\n",
      "1800/1800 - 4s - loss: 0.0014 - val_loss: 0.0015 - 4s/epoch - 2ms/step\n",
      "Epoch 47/50\n",
      "1800/1800 - 4s - loss: 0.0014 - val_loss: 0.0015 - 4s/epoch - 2ms/step\n",
      "Epoch 48/50\n",
      "1800/1800 - 4s - loss: 0.0014 - val_loss: 0.0015 - 4s/epoch - 2ms/step\n",
      "Epoch 49/50\n",
      "1800/1800 - 4s - loss: 0.0014 - val_loss: 0.0015 - 4s/epoch - 2ms/step\n",
      "Epoch 50/50\n",
      "1800/1800 - 4s - loss: 0.0014 - val_loss: 0.0015 - 4s/epoch - 2ms/step\n"
     ]
    },
    {
     "data": {
      "image/png": "[encoded data removed]",
      "text/plain": [
       "<Figure size 432x288 with 1 Axes>"
      ]
     },
     "metadata": {
      "needs_background": "light"
     },
     "output_type": "display_data"
    }
   ],
   "source": [
    "model = Sequential()\n",
    "model.add(LSTM(50, input_shape=(train_X.shape[1], train_X.shape[2])))\n",
    "model.add(Dense(1))\n",
    "model.compile(loss='mean_squared_error', optimizer='adam')\n",
    "history = model.fit(train_X, train_y, epochs=50, batch_size=1, validation_data=(test_X, test_y), verbose=2, shuffle=False)\n",
    "plt.plot(history.history['loss'], label='train')\n",
    "plt.plot(history.history['val_loss'], label='test')\n",
    "plt.legend()\n",
    "plt.show()"
   ]
  },
  {
   "cell_type": "code",
   "execution_count": null,
   "id": "4d6dc1af",
   "metadata": {},
   "outputs": [],
   "source": []
  }
 ],
 "metadata": {
  "kernelspec": {
   "display_name": "Python 3 (ipykernel)",
   "language": "python",
   "name": "python3"
  },
  "language_info": {
   "codemirror_mode": {
    "name": "ipython",
    "version": 3
   },
   "file_extension": ".py",
   "mimetype": "text/x-python",
   "name": "python",
   "nbconvert_exporter": "python",
   "pygments_lexer": "ipython3",
   "version": "3.9.12"
  }
 },
 "nbformat": 4,
 "nbformat_minor": 5
}
