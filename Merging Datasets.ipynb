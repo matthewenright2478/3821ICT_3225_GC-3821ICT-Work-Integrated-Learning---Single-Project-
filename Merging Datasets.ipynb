{
 "cells": [
  {
   "cell_type": "code",
   "execution_count": 2,
   "metadata": {},
   "outputs": [],
   "source": [
    "## importing libraries ##\n",
    "import pandas as pd\n",
    "import re\n",
    "import os"
   ]
  },
  {
   "cell_type": "code",
   "execution_count": 3,
   "metadata": {},
   "outputs": [],
   "source": [
    "## Definining variables ##\n",
    "eventDatasets=[ 'rain_event_58216_2.csv',     'rain_event_558000_1.csv',\n",
    "             'rain_event_558036_2.csv',    'rain_event_558025_1.csv',\n",
    "             'rain_event_558031_1.csv',    'rain_event_558033_1.csv',\n",
    "             \"rain_event_558036_2.csv\",    'rain_event_558046_1.csv',\n",
    "             'rain_event_558049_1.csv',    'rain_event_558053_1.csv']\n",
    "\n",
    "accumDatasets = ['rain_accum_558034_1.csv','rain_accum_558033_1.csv','rain_accum_558031_1.csv',\n",
    "'rain_accum_558028_1.csv','rain_accum_558025_1.csv','rain_accum_558018_1.csv',\n",
    "'rain_accum_558008_1.csv','rain_accum_558005_1.csv','rain_accum_558000_1.csv'\n",
    ",'rain_accum_558112_1.csv','rain_accum_558112_0.csv','rain_accum_558109_1.csv',\n",
    " 'rain_accum_558107_1.csv','rain_accum_558107_0.csv','rain_accum_558106_1.csv',\n",
    " 'rain_accum_558106_0.csv','rain_accum_558104_1.csv','rain_accum_558104_0.csv',\n",
    "'rain_accum_558099_1.csv','rain_accum_558099_0.csv','rain_accum_558096_1.csv',\n",
    "'rain_accum_558095_1.csv','rain_accum_558094_1.csv','rain_accum_558084_1.csv',\n",
    "'rain_accum_558083_1.csv','rain_accum_558078_1.csv','rain_accum_558066_1.csv',\n",
    "'rain_accum_558053_1.csv','rain_accum_558049_1.csv','rain_accum_558046_1.csv',\n",
    " 'rain_accum_558036_1.csv','rain_accum_58167_1.csv','rain_accum_58147_1.csv',\n",
    "'rain_accum_58019_1.csv']\n",
    "\n",
    "WL_1 = ['wl_558005_1.csv', 'wl_558006_1.csv']\n",
    "\n",
    "WL_2 = ['wl_558004_1.csv', 'wl_558007_1.csv', 'wl_558007_3.csv','wl_558008_1.csv','wl_558020_1.csv',\n",
    "        'wl_558063_1.csv', 'wl_558096_1.csv', 'wl_558108_1.csv', 'wl_558112_1.csv']\n",
    "\n",
    "df = pd.DataFrame()\n",
    "cf = pd.DataFrame()\n",
    "wf1 = pd.DataFrame()\n",
    "wf2 = pd.DataFrame()"
   ]
  },
  {
   "cell_type": "code",
   "execution_count": 4,
   "metadata": {},
   "outputs": [],
   "source": [
    "## Cominbing events datasets ##\n",
    "eventpath = './Data/BrunswickRiver/Rain_Event'\n",
    "for i in eventDatasets:\n",
    "    data = pd.read_csv(os.path.join(eventpath, i))\n",
    "    names = re.search('[0-9]+',i)   #-- Adding Location column -- #\n",
    "    data['LOC'] = data.loc[:,'LOC'] = names.group()\n",
    "    df = pd.concat([df,data])"
   ]
  },
  {
   "cell_type": "code",
   "execution_count": 5,
   "metadata": {},
   "outputs": [],
   "source": [
    "## Combing Accumdatasets ##\n",
    "accumpath = './Data/BrunswickRiver/Rain_Accum'\n",
    "for i in accumDatasets:\n",
    "    data = pd.read_csv(os.path.join(accumpath, i))\n",
    "    names = re.search('[0-9]+',i)   #-- Adding Location column -- #\n",
    "    data['LOC'] = data.loc[:,'LOC'] = names.group()\n",
    "    cf = pd.concat([cf,data])"
   ]
  },
  {
   "cell_type": "code",
   "execution_count": 6,
   "metadata": {},
   "outputs": [],
   "source": [
    "## Exporting to CSV ##\n",
    "df.to_csv('allRainEvents.csv')\n",
    "cf.to_csv('allRainAccums.csv')"
   ]
  },
  {
   "cell_type": "code",
   "execution_count": 7,
   "metadata": {},
   "outputs": [],
   "source": [
    "## Cominbing WL_1 datasets ##\n",
    "WL_1path = './Data/BrunswickRiver_WL_1/'\n",
    "for i in WL_1:\n",
    "    data = pd.read_csv(os.path.join(WL_1path, i))\n",
    "    wf1 = pd.concat([wf1,data])"
   ]
  },
  {
   "cell_type": "code",
   "execution_count": 8,
   "metadata": {},
   "outputs": [],
   "source": [
    "## Cominbing WL_2 datasets ##\n",
    "WL_2path = './Data/BrunswickRiver_WL_2/'\n",
    "for i in WL_2:\n",
    "    data = pd.read_csv(os.path.join(WL_2path, i))\n",
    "    wf2 = pd.concat([wf2,data])"
   ]
  },
  {
   "cell_type": "code",
   "execution_count": 9,
   "metadata": {},
   "outputs": [],
   "source": [
    "wf1_2 = pd.concat([wf1, wf2])"
   ]
  },
  {
   "cell_type": "code",
   "execution_count": 10,
   "metadata": {},
   "outputs": [
    {
     "data": {
      "text/plain": [
       "OBS_TIME_LOC     object\n",
       "HT              float64\n",
       "VOID_FLAG        object\n",
       "dtype: object"
      ]
     },
     "execution_count": 10,
     "metadata": {},
     "output_type": "execute_result"
    }
   ],
   "source": [
    "wf1_2.dtypes"
   ]
  },
  {
   "cell_type": "code",
   "execution_count": 11,
   "metadata": {},
   "outputs": [],
   "source": [
    "wf1_2[\"OBS_TIME_LOC\"] = pd.to_datetime(wf1_2[\"OBS_TIME_LOC\"])"
   ]
  },
  {
   "cell_type": "code",
   "execution_count": 12,
   "metadata": {},
   "outputs": [],
   "source": [
    "wf1_2.sort_values(by='OBS_TIME_LOC', inplace=True)"
   ]
  },
  {
   "cell_type": "code",
   "execution_count": 13,
   "metadata": {},
   "outputs": [],
   "source": [
    "wf1_2.to_csv('allWL.csv')"
   ]
  },
  {
   "cell_type": "code",
   "execution_count": null,
   "metadata": {},
   "outputs": [],
   "source": []
  }
 ],
 "metadata": {
  "kernelspec": {
   "display_name": "Python 3 (ipykernel)",
   "language": "python",
   "name": "python3"
  },
  "language_info": {
   "codemirror_mode": {
    "name": "ipython",
    "version": 3
   },
   "file_extension": ".py",
   "mimetype": "text/x-python",
   "name": "python",
   "nbconvert_exporter": "python",
   "pygments_lexer": "ipython3",
   "version": "3.9.12"
  }
 },
 "nbformat": 4,
 "nbformat_minor": 4
}
