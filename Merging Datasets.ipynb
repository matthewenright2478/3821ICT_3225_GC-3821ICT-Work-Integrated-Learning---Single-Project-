{
 "cells": [
  {
   "cell_type": "code",
   "execution_count": 62,
   "metadata": {},
   "outputs": [],
   "source": [
    "## importing libraries ##\n",
    "import pandas as pd\n",
    "import re"
   ]
  },
  {
   "cell_type": "code",
   "execution_count": 63,
   "metadata": {},
   "outputs": [],
   "source": [
    "## Definining variables ##\n",
    "eventDatasets=[ 'rain_event_58216_2.csv',     'rain_event_558000_1.csv',\n",
    "             'rain_event_558036_2.csv',    'rain_event_558025_1.csv',\n",
    "             'rain_event_558031_1.csv',    'rain_event_558033_1.csv',\n",
    "             \"rain_event_558036_2.csv\",    'rain_event_558046_1.csv',\n",
    "             'rain_event_558049_1.csv',    'rain_event_558053_1.csv']\n",
    "\n",
    "accumDatasets = ['rain_accum_558034_1.csv','rain_accum_558033_1.csv','rain_accum_558031_1.csv',\n",
    "'rain_accum_558028_1.csv','rain_accum_558025_1.csv','rain_accum_558018_1.csv',\n",
    "'rain_accum_558008_1.csv','rain_accum_558005_1.csv','rain_accum_558000_1.csv'\n",
    ",'rain_accum_558112_1.csv','rain_accum_558112_0.csv','rain_accum_558109_1.csv',\n",
    " 'rain_accum_558107_1.csv','rain_accum_558107_0.csv','rain_accum_558106_1.csv',\n",
    " 'rain_accum_558106_0.csv','rain_accum_558104_1.csv','rain_accum_558104_0.csv',\n",
    "'rain_accum_558099_1.csv','rain_accum_558099_0.csv','rain_accum_558096_1.csv',\n",
    "'rain_accum_558095_1.csv','rain_accum_558094_1.csv','rain_accum_558084_1.csv',\n",
    "'rain_accum_558083_1.csv','rain_accum_558078_1.csv','rain_accum_558066_1.csv',\n",
    "'rain_accum_558053_1.csv','rain_accum_558049_1.csv','rain_accum_558046_1.csv',\n",
    " 'rain_accum_558036_1.csv','rain_accum_58167_1.csv','rain_accum_58147_1.csv',\n",
    "'rain_accum_58019_1.csv']\n",
    "\n",
    "df = pd.DataFrame()"
   ]
  },
  {
   "cell_type": "code",
   "execution_count": 64,
   "metadata": {},
   "outputs": [],
   "source": [
    "## Cominbing events datasets ##\n",
    "for i in eventDatasets:\n",
    "    data = pd.read_csv(i)\n",
    "    names = re.search('[0-9]+',i)   #-- Adding Location column -- #\n",
    "    data['LOC'] = data.loc[:,'LOC'] = names.group()\n",
    "    df = pd.concat([df,data])"
   ]
  },
  {
   "cell_type": "code",
   "execution_count": 65,
   "metadata": {},
   "outputs": [],
   "source": [
    "## Combing Accumdatasets ##\n",
    "for i in accumDatasets:\n",
    "    data = pd.read_csv(i)\n",
    "    names = re.search('[0-9]+',i)   #-- Adding Location column -- #\n",
    "    data['LOC'] = data.loc[:,'LOC'] = names.group()\n",
    "    cf = pd.concat([cf,data])"
   ]
  },
  {
   "cell_type": "code",
   "execution_count": 66,
   "metadata": {},
   "outputs": [],
   "source": [
    "## Exporting to CSV ##\n",
    "df.to_csv('allRainEvents.csv')\n",
    "cf.to_csv('allRainAccums.csv')"
   ]
  },
  {
   "cell_type": "code",
   "execution_count": null,
   "metadata": {},
   "outputs": [],
   "source": []
  }
 ],
 "metadata": {
  "kernelspec": {
   "display_name": "Python 3",
   "language": "python",
   "name": "python3"
  },
  "language_info": {
   "codemirror_mode": {
    "name": "ipython",
    "version": 3
   },
   "file_extension": ".py",
   "mimetype": "text/x-python",
   "name": "python",
   "nbconvert_exporter": "python",
   "pygments_lexer": "ipython3",
   "version": "3.8.3"
  }
 },
 "nbformat": 4,
 "nbformat_minor": 4
}
