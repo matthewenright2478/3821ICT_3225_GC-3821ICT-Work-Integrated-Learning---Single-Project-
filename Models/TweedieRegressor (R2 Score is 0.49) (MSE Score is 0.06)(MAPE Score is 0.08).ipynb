{
 "cells": [
  {
   "cell_type": "code",
   "execution_count": 472,
   "metadata": {},
   "outputs": [],
   "source": [
    "## Importing Libraries ##\n",
    "import pandas as pd\n",
    "import numpy as np\n",
    "import matplotlib.pyplot as plt\n",
    "import seaborn as sns\n",
    "%matplotlib inline\n",
    "import xlrd\n",
    "from sklearn import svm\n",
    "import openpyxl\n",
    "from sklearn.preprocessing import OneHotEncoder\n",
    "from sklearn.model_selection import train_test_split\n",
    "from sklearn.linear_model import LinearRegression\n",
    "from sklearn.linear_model import LogisticRegression\n",
    "from sklearn import metrics\n",
    "from sklearn.metrics import r2_score\n",
    "from sklearn.metrics import mean_squared_error\n",
    "from sklearn import linear_model\n",
    "from sklearn.linear_model import TweedieRegressor\n",
    "from numba import jit, njit, vectorize, cuda, uint32, f8, uint8\n",
    "from timeit import default_timer as timer\n",
    "from statsmodels.tsa.arima_model import ARMA\n",
    "from datetime import datetime\n",
    "from sklearn import *\n",
    "import copy\n",
    "from sklearn.ensemble import RandomForestClassifier\n",
    "from sklearn.datasets import make_classification\n",
    "from sklearn.svm import SVR\n",
    "from sklearn.linear_model import OrthogonalMatchingPursuit\n",
    "from sklearn.ensemble import RandomForestRegressor\n",
    "from sklearn import tree\n",
    "from sklearn.neighbors import KNeighborsRegressor\n",
    "from sklearn.naive_bayes import GaussianNB\n",
    "from sklearn.neural_network import MLPRegressor\n",
    "from sklearn.datasets import make_regression\n",
    "from sklearn.tree import DecisionTreeRegressor\n",
    "from sklearn.kernel_ridge import KernelRidge\n",
    "from sklearn.isotonic import IsotonicRegression\n",
    "from sklearn.ensemble import GradientBoostingRegressor\n",
    "from sklearn import svm\n",
    "from sklearn.svm import LinearSVR\n",
    "from sklearn.preprocessing import KBinsDiscretizer\n",
    "from sklearn.metrics import mean_absolute_error\n",
    "from sklearn.metrics import mean_absolute_percentage_error"
   ]
  },
  {
   "cell_type": "code",
   "execution_count": 473,
   "metadata": {},
   "outputs": [],
   "source": [
    "## Declaring variables ##\n",
    "df = pd.read_csv('mergedFiles.csv')"
   ]
  },
  {
   "cell_type": "code",
   "execution_count": 474,
   "metadata": {},
   "outputs": [],
   "source": [
    "## Processing the data ## \n",
    "df['Unnamed: 0'] = pd.to_datetime(df['Unnamed: 0'])\n",
    "df = df.set_index('Unnamed: 0')\n",
    "df = df.dropna()\n",
    "\n",
    "## Attribute selection ## \n",
    "df = df[['error_one','error_two','error_three','error_four','target','targetplus','maxdiff','The Pocket (Marshalls Creek)']]"
   ]
  },
  {
   "cell_type": "code",
   "execution_count": 475,
   "metadata": {},
   "outputs": [],
   "source": [
    "## Creating the training and testing variable ##\n",
    "training_data  = df[df.index<datetime(2017, 3, 1)]\n",
    "testing_data   = df[df.index>datetime(2017, 3, 1)]"
   ]
  },
  {
   "cell_type": "code",
   "execution_count": 476,
   "metadata": {},
   "outputs": [],
   "source": [
    "## Defining Y and X values ## \n",
    "X_train = training_data.drop(['targetplus'], axis=1) \n",
    "y_train = training_data['targetplus']\n",
    "\n",
    "## Defining Y and X values ## \n",
    "X_test = testing_data.drop(['targetplus'], axis=1) \n",
    "y_test = testing_data['targetplus']"
   ]
  },
  {
   "cell_type": "code",
   "execution_count": 509,
   "metadata": {},
   "outputs": [],
   "source": [
    "## Building and fittinh the model ##\n",
    "from sklearn.tree import ExtraTreeRegressor\n",
    "\n",
    "## Setting model ## \n",
    "LR = linear_model.TweedieRegressor(power=0,alpha=0.28)\n",
    "\n",
    "## Fitting the training data ##\n",
    "LR.fit(X_train,y_train) \n",
    "\n",
    "## Creating prediction ##\n",
    "y_prediction = LR.predict(X_test) \n",
    "y_prediction[y_prediction < 0.0] = 0.0\n",
    "\n",
    "## Calculating prediction and actual valus ##\n",
    "df1 = pd.DataFrame({'Actual': y_test, 'Predicted': y_prediction})"
   ]
  },
  {
   "cell_type": "code",
   "execution_count": 510,
   "metadata": {},
   "outputs": [
    {
     "name": "stdout",
     "output_type": "stream",
     "text": [
      "R2 Score is 0.49244046780159223 ::: MSE Score is 0.0616812306803999 ::: MAPE Score is 0.0840532177567256\n"
     ]
    }
   ],
   "source": [
    "## Retrieving R2 Score, MSE, MAPE score ##\n",
    "print(\"R2 Score is \"  + str(r2_score(y_test, y_prediction)) +\n",
    "      \" ::: MSE Score is \" + str(mean_absolute_error(y_test, y_prediction)) +\n",
    "      \" ::: MAPE Score is \" + str(mean_absolute_percentage_error(y_test, y_prediction)))"
   ]
  },
  {
   "cell_type": "code",
   "execution_count": 498,
   "metadata": {},
   "outputs": [
    {
     "data": {
      "text/plain": [
       "<matplotlib.collections.PathCollection at 0x1ef10e2d5e0>"
      ]
     },
     "execution_count": 498,
     "metadata": {},
     "output_type": "execute_result"
    },
    {
     "data": {
      "image/png": "[encoded data removed]",
      "text/plain": [
       "<Figure size 432x288 with 1 Axes>"
      ]
     },
     "metadata": {
      "needs_background": "light"
     },
     "output_type": "display_data"
    }
   ],
   "source": [
    "## Visualisation of predictions - Setting specifics for graph ##\n",
    "fig = plt.figure()\n",
    "ax1 = fig.add_subplot(111) \n",
    "\n",
    "## Visualisation of predictions - Creating graph ##\n",
    "plt.title(\"Predictions\")\n",
    "plt.ylabel(\"rainfall Levels\")\n",
    "plt.xlabel(\"Entities\")\n",
    "\n",
    "## Plotting the graph ##\n",
    "ax1.scatter(df1.index[0:30],df1.Actual[0:30].values,color='g')\n",
    "ax1.scatter(df1.index[0:30],df1.Predicted[0:30].values, color='r')"
   ]
  },
  {
   "cell_type": "code",
   "execution_count": 378,
   "metadata": {},
   "outputs": [
    {
     "data": {
      "text/plain": [
       "<matplotlib.collections.PathCollection at 0x1ef0fc80610>"
      ]
     },
     "execution_count": 378,
     "metadata": {},
     "output_type": "execute_result"
    },
    {
     "data": {
      "image/png": "[encoded data removed]",
      "text/plain": [
       "<Figure size 432x288 with 1 Axes>"
      ]
     },
     "metadata": {
      "needs_background": "light"
     },
     "output_type": "display_data"
    }
   ],
   "source": [
    "## Visualisation of predictions - Setting specifics for graph ##\n",
    "fig = plt.figure()\n",
    "ax1 = fig.add_subplot(111)\n",
    "\n",
    "## Visualisation of predictions - Creating graph ##\n",
    "plt.title(\"Predictions\")\n",
    "plt.ylabel(\"rainfall Levels\")\n",
    "plt.xlabel(\"Entities\")\n",
    "ax1.scatter(df1.index,df1.Actual.values,color='g')\n",
    "ax1.scatter(df1.index,X_test.error_three.values, color='r')"
   ]
  },
  {
   "cell_type": "code",
   "execution_count": null,
   "metadata": {},
   "outputs": [],
   "source": []
  },
  {
   "cell_type": "code",
   "execution_count": null,
   "metadata": {},
   "outputs": [],
   "source": []
  }
 ],
 "metadata": {
  "kernelspec": {
   "display_name": "Python 3",
   "language": "python",
   "name": "python3"
  },
  "language_info": {
   "codemirror_mode": {
    "name": "ipython",
    "version": 3
   },
   "file_extension": ".py",
   "mimetype": "text/x-python",
   "name": "python",
   "nbconvert_exporter": "python",
   "pygments_lexer": "ipython3",
   "version": "3.8.3"
  }
 },
 "nbformat": 4,
 "nbformat_minor": 5
}
