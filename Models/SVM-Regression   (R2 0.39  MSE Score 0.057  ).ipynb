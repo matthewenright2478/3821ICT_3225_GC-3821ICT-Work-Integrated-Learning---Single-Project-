{
 "cells": [
  {
   "cell_type": "code",
   "execution_count": 433,
   "id": "864bb1e9",
   "metadata": {},
   "outputs": [],
   "source": [
    "## Importing Libraries ##\n",
    "import pandas as pd\n",
    "import numpy as np\n",
    "import matplotlib.pyplot as plt\n",
    "import seaborn as sns\n",
    "%matplotlib inline\n",
    "import xlrd\n",
    "from sklearn import svm\n",
    "import openpyxl\n",
    "from sklearn.preprocessing import OneHotEncoder\n",
    "from sklearn.model_selection import train_test_split\n",
    "from sklearn.linear_model import LinearRegression\n",
    "from sklearn.linear_model import LogisticRegression\n",
    "from sklearn import metrics\n",
    "from sklearn.metrics import r2_score\n",
    "from sklearn.metrics import mean_squared_error\n",
    "from sklearn import linear_model\n",
    "from sklearn.linear_model import TweedieRegressor\n",
    "from numba import jit, njit, vectorize, cuda, uint32, f8, uint8\n",
    "from timeit import default_timer as timer\n",
    "from statsmodels.tsa.arima_model import ARMA\n",
    "from datetime import datetime\n",
    "from sklearn import *\n",
    "import copy\n",
    "from sklearn.ensemble import RandomForestClassifier\n",
    "from sklearn.datasets import make_classification\n",
    "from sklearn.svm import SVR\n",
    "from sklearn.linear_model import OrthogonalMatchingPursuit\n",
    "from sklearn.ensemble import RandomForestRegressor\n",
    "from sklearn import tree\n",
    "from sklearn.neighbors import KNeighborsRegressor\n",
    "from sklearn.naive_bayes import GaussianNB\n",
    "from sklearn.neural_network import MLPRegressor\n",
    "from sklearn.datasets import make_regression\n",
    "from sklearn.tree import DecisionTreeRegressor\n",
    "from sklearn.kernel_ridge import KernelRidge\n",
    "from sklearn.isotonic import IsotonicRegression\n",
    "from sklearn.ensemble import GradientBoostingRegressor\n",
    "from sklearn import svm\n",
    "from sklearn.svm import LinearSVR\n",
    "from sklearn.preprocessing import KBinsDiscretizer\n",
    "from sklearn.metrics import mean_absolute_error\n",
    "from sklearn.metrics import mean_absolute_percentage_error"
   ]
  },
  {
   "cell_type": "code",
   "execution_count": 392,
   "id": "e49820ef",
   "metadata": {},
   "outputs": [
    {
     "data": {
      "text/plain": [
       "array(['The Pocket (Marshalls Creek)', nan, 'Durrumbul (Brunswick River)',\n",
       "       'Mullumbimby Creek (Mullumbimby Ck)',\n",
       "       'Billinudgel (Marshalls Creek)', 'Brunswick Heads (Tidal)',\n",
       "       'Yelgun (Yelgun Creek)', 'Orana Bridge (Marshalls Creek)',\n",
       "       'Yelgun Creek (Helen St Bridge)'], dtype=object)"
      ]
     },
     "execution_count": 392,
     "metadata": {},
     "output_type": "execute_result"
    }
   ],
   "source": [
    "## Declaring variables ##\n",
    "df = pd.read_csv('cleaned_heightdata.csv')\n",
    "df_concat = pd.DataFrame()"
   ]
  },
  {
   "cell_type": "code",
   "execution_count": 393,
   "id": "323bdd38",
   "metadata": {},
   "outputs": [
    {
     "name": "stderr",
     "output_type": "stream",
     "text": [
      "C:\\Users\\matty enright\\anaconda3\\envs\\NewEnvironment\\lib\\site-packages\\pandas\\core\\generic.py:5516: SettingWithCopyWarning: \n",
      "A value is trying to be set on a copy of a slice from a DataFrame.\n",
      "Try using .loc[row_indexer,col_indexer] = value instead\n",
      "\n",
      "See the caveats in the documentation: https://pandas.pydata.org/pandas-docs/stable/user_guide/indexing.html#returning-a-view-versus-a-copy\n",
      "  self[name] = value\n"
     ]
    }
   ],
   "source": [
    "## Melting the data ##\n",
    "\n",
    "for i in df.LOC_NAME.unique():\n",
    "    cf = df[df.LOC_NAME == str(i)]\n",
    "    cf.OBS_TIME_LOC = pd.to_datetime(cf['OBS_TIME_LOC'])\n",
    "    cf = cf.set_index('OBS_TIME_LOC')\n",
    "    resampled = cf.resample('D').mean()\n",
    "    df_concat = pd.concat([df_concat, resampled.HT.rename(str(i))], axis=1)      "
   ]
  },
  {
   "cell_type": "code",
   "execution_count": 394,
   "id": "6e1f540b",
   "metadata": {},
   "outputs": [],
   "source": [
    "## Feature extraction and processing ##\n",
    "df_concat = df_concat.drop('nan',axis=1)\n",
    "df_concat = df_concat.drop(['Yelgun (Yelgun Creek)','Orana Bridge (Marshalls Creek)','Yelgun Creek (Helen St Bridge)'], axis=1)\n",
    "df = df_concat.dropna()"
   ]
  },
  {
   "cell_type": "code",
   "execution_count": 398,
   "id": "f9dd62de",
   "metadata": {},
   "outputs": [
    {
     "name": "stderr",
     "output_type": "stream",
     "text": [
      "C:\\Users\\matty enright\\anaconda3\\envs\\NewEnvironment\\lib\\site-packages\\ipykernel_launcher.py:1: SettingWithCopyWarning: \n",
      "A value is trying to be set on a copy of a slice from a DataFrame.\n",
      "Try using .loc[row_indexer,col_indexer] = value instead\n",
      "\n",
      "See the caveats in the documentation: https://pandas.pydata.org/pandas-docs/stable/user_guide/indexing.html#returning-a-view-versus-a-copy\n",
      "  \"\"\"Entry point for launching an IPython kernel.\n",
      "C:\\Users\\matty enright\\anaconda3\\envs\\NewEnvironment\\lib\\site-packages\\ipykernel_launcher.py:2: SettingWithCopyWarning: \n",
      "A value is trying to be set on a copy of a slice from a DataFrame.\n",
      "Try using .loc[row_indexer,col_indexer] = value instead\n",
      "\n",
      "See the caveats in the documentation: https://pandas.pydata.org/pandas-docs/stable/user_guide/indexing.html#returning-a-view-versus-a-copy\n",
      "  \n",
      "C:\\Users\\matty enright\\anaconda3\\envs\\NewEnvironment\\lib\\site-packages\\ipykernel_launcher.py:3: SettingWithCopyWarning: \n",
      "A value is trying to be set on a copy of a slice from a DataFrame.\n",
      "Try using .loc[row_indexer,col_indexer] = value instead\n",
      "\n",
      "See the caveats in the documentation: https://pandas.pydata.org/pandas-docs/stable/user_guide/indexing.html#returning-a-view-versus-a-copy\n",
      "  This is separate from the ipykernel package so we can avoid doing imports until\n"
     ]
    }
   ],
   "source": [
    "## Feature manipulation ## \n",
    "df['three'] = df['The Pocket (Marshalls Creek)'].shift(-3)\n",
    "df['seven']= df['The Pocket (Marshalls Creek)'].shift(7)\n",
    "df['four'] = df['The Pocket (Marshalls Creek)'].shift(14) \n",
    "df = df.dropna()"
   ]
  },
  {
   "cell_type": "code",
   "execution_count": 399,
   "id": "fcf9dfdb",
   "metadata": {},
   "outputs": [],
   "source": [
    "## Setting training and testing data ## \n",
    "training_data  = df[df.index<datetime(2017, 3, 1)]\n",
    "testing_data   = df[df.index>datetime(2017, 3, 1)]"
   ]
  },
  {
   "cell_type": "code",
   "execution_count": 400,
   "id": "59cf2a11",
   "metadata": {},
   "outputs": [],
   "source": [
    "\n",
    "\n",
    "## Defining Y and X values ## \n",
    "X_train = training_data.drop([\"three\"], axis=1) \n",
    "y_train = training_data[\"three\"]\n",
    "\n",
    "## Defining Y and X values ## \n",
    "X_test = testing_data.drop([\"three\"], axis=1) \n",
    "y_test = testing_data[\"three\"]"
   ]
  },
  {
   "cell_type": "code",
   "execution_count": 418,
   "id": "075623ce",
   "metadata": {},
   "outputs": [
    {
     "name": "stderr",
     "output_type": "stream",
     "text": [
      "C:\\Users\\matty enright\\anaconda3\\envs\\NewEnvironment\\lib\\site-packages\\sklearn\\svm\\_base.py:1208: ConvergenceWarning: Liblinear failed to converge, increase the number of iterations.\n",
      "  ConvergenceWarning,\n"
     ]
    }
   ],
   "source": [
    "## Building and fittinh the model ##\n",
    "\n",
    "LR = svm.LinearSVR(loss = 'epsilon_insensitive')\n",
    "\n",
    "## Fitting the training data ##\n",
    "LR.fit(X_train,y_train) \n",
    "\n",
    "## Creating prediction ##\n",
    "y_prediction = LR.predict(X_test) \n",
    "#y_prediction[y_prediction < 0.0] = 0.0\n",
    "\n",
    "## Calculating prediction and actual valus ##\n",
    "df1 = pd.DataFrame({'Actual': y_test, 'Predicted': y_prediction})"
   ]
  },
  {
   "cell_type": "code",
   "execution_count": 435,
   "id": "3eff501e",
   "metadata": {},
   "outputs": [
    {
     "name": "stdout",
     "output_type": "stream",
     "text": [
      "R2 Score is 0.3945643145765456 ::: MSE Score is 0.05789930348220456 ::: MAE Score is 0.05806221767010433\n"
     ]
    }
   ],
   "source": [
    "## Retrieving R2 Score, MSE, MAPE score ##\n",
    "print(\"R2 Score is \"  + str(r2_score(y_test, y_prediction)) +\n",
    "      \" ::: MSE Score is \" + str(mean_absolute_error(y_test, y_prediction)) +\n",
    "      \" ::: MAPE Score is \" + str(mean_absolute_percentage_error(y_test, y_prediction))\n",
    "     )"
   ]
  },
  {
   "cell_type": "code",
   "execution_count": 422,
   "id": "11ff9c41",
   "metadata": {},
   "outputs": [
    {
     "data": {
      "text/plain": [
       "<matplotlib.collections.PathCollection at 0x1a3e268eec8>"
      ]
     },
     "execution_count": 422,
     "metadata": {},
     "output_type": "execute_result"
    },
    {
     "data": {
      "image/png": "[encoded data removed]",
      "text/plain": [
       "<Figure size 432x288 with 1 Axes>"
      ]
     },
     "metadata": {
      "needs_background": "light"
     },
     "output_type": "display_data"
    }
   ],
   "source": [
    "## Visualisation of predictions - Setting specifics for graph ##\n",
    "fig = plt.figure()\n",
    "ax1 = fig.add_subplot(111)\n",
    "\n",
    "## Visualisation of predictions - Creating graph ##\n",
    "plt.title(\"Predictions\")\n",
    "plt.ylabel(\"rainfall Levels\")\n",
    "plt.xlabel(\"Entities\")\n",
    "ax1.scatter(df1.index[250:400],df1.Actual[250:400].values,color='g')\n",
    "ax1.scatter(df1.index[250:400],df1.Predicted[250:400].values, color='r')"
   ]
  },
  {
   "cell_type": "code",
   "execution_count": 421,
   "id": "7dbddba1",
   "metadata": {},
   "outputs": [
    {
     "data": {
      "text/plain": [
       "<matplotlib.collections.PathCollection at 0x1a3df9cb208>"
      ]
     },
     "execution_count": 421,
     "metadata": {},
     "output_type": "execute_result"
    },
    {
     "data": {
      "image/png": "[encoded data removed]",
      "text/plain": [
       "<Figure size 432x288 with 1 Axes>"
      ]
     },
     "metadata": {
      "needs_background": "light"
     },
     "output_type": "display_data"
    }
   ],
   "source": [
    "fig = plt.figure()\n",
    "ax1 = fig.add_subplot(111)\n",
    "\n",
    "ax1.scatter(df1.index,df1.Actual.values,color='g')\n",
    "ax1.scatter(df1.index,df1.Predicted.values, color='r')"
   ]
  },
  {
   "cell_type": "code",
   "execution_count": null,
   "id": "e0fbd62b",
   "metadata": {},
   "outputs": [],
   "source": []
  },
  {
   "cell_type": "code",
   "execution_count": null,
   "id": "c922131f",
   "metadata": {},
   "outputs": [],
   "source": []
  },
  {
   "cell_type": "code",
   "execution_count": null,
   "id": "4e1b5d31",
   "metadata": {},
   "outputs": [],
   "source": []
  },
  {
   "cell_type": "code",
   "execution_count": null,
   "id": "87e005c0",
   "metadata": {},
   "outputs": [],
   "source": []
  },
  {
   "cell_type": "code",
   "execution_count": null,
   "id": "73e9d3b5",
   "metadata": {},
   "outputs": [],
   "source": []
  },
  {
   "cell_type": "code",
   "execution_count": null,
   "id": "feb3b7d2",
   "metadata": {},
   "outputs": [],
   "source": []
  },
  {
   "cell_type": "code",
   "execution_count": null,
   "id": "9e02c0b0",
   "metadata": {},
   "outputs": [],
   "source": []
  },
  {
   "cell_type": "code",
   "execution_count": null,
   "id": "4359a483",
   "metadata": {},
   "outputs": [],
   "source": [
    "df_concat = pd.DataFrame()\n",
    "\n",
    "for i in df.LOC_NAME.unique():\n",
    "    cf = df[df.LOC_NAME == str(i)]\n",
    "    cf.OBS_TIME_LOC = pd.to_datetime(cf['OBS_TIME_LOC'])\n",
    "    cf = cf.set_index('OBS_TIME_LOC')\n",
    "    resampled = cf.resample('D').mean()\n",
    "    df_concat = pd.concat([df_concat, resampled.change.rename(str(i))], axis=1)\n",
    "\n",
    "\n",
    "\n",
    "\n",
    "\n",
    "\n",
    "\n",
    "\n",
    "\n",
    "\n",
    "\n",
    "\n",
    "#for j in range(0,len(GEO)):\n",
    "   #     dst = 9999\n",
    "    #    smallDist = 99999\n",
    "    #    values = []\n",
    "        \n",
    "       # for i in range(0,len(CGEO)):\n",
    "         #   dst = distance.euclidean(GEO[j],CGEO[i]) \n",
    "            \n",
    "          #  if dst < smallDist: \n",
    "          #      smallDist = dst\n",
    "           #     values=CGEO[i]\n",
    "                \n",
    "           # newList['LAT'] = newList['LAT'].replace({values[0]:GEO[j][0]})\n",
    "            \n",
    "           # newList['LONG'] = newList['LONG'].replace({values[1]:GEO[j][1]})\n",
    "            \n",
    "            \n",
    "            \n",
    "#newList['LAT']            \n",
    "            df_concat = df_concat.drop('nan',axis=1)\n",
    "\n",
    "df_concat = df_concat.drop(['Yelgun (Yelgun Creek)','Orana Bridge (Marshalls Creek)','Yelgun Creek (Helen St Bridge)'], axis=1)\n",
    "\n",
    "df_concat['The Pocket (Marshalls Creek)']"
   ]
  }
 ],
 "metadata": {
  "kernelspec": {
   "display_name": "Python 3 (ipykernel)",
   "language": "python",
   "name": "python3"
  },
  "language_info": {
   "codemirror_mode": {
    "name": "ipython",
    "version": 3
   },
   "file_extension": ".py",
   "mimetype": "text/x-python",
   "name": "python",
   "nbconvert_exporter": "python",
   "pygments_lexer": "ipython3",
   "version": "3.7.13"
  }
 },
 "nbformat": 4,
 "nbformat_minor": 5
}
