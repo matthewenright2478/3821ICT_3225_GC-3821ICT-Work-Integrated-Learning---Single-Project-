{
 "cells": [
  {
   "cell_type": "code",
   "execution_count": 24,
   "id": "01f10d86",
   "metadata": {},
   "outputs": [],
   "source": [
    "%matplotlib inline\n",
    "import pandas as pd\n",
    "import numpy as np\n",
    "import matplotlib.pyplot as plt\n",
    "import seaborn as sns\n",
    "\n",
    "from keras.models import Sequential\n",
    "from keras.layers import Dense\n",
    "from keras.layers import LSTM\n",
    "from keras.losses import mean_squared_error\n",
    "from tensorflow import keras\n",
    "from keras.optimizers import Adam\n",
    "from sklearn.model_selection import train_test_split\n",
    "from sklearn.preprocessing import MinMaxScaler\n",
    "from keras.models import load_model\n",
    "import math\n",
    "from keras.utils import plot_model\n",
    "\n",
    "np.random.seed(10)"
   ]
  },
  {
   "cell_type": "code",
   "execution_count": 25,
   "id": "bc437eae",
   "metadata": {},
   "outputs": [
    {
     "data": {
      "text/html": [
       "<div>\n",
       "<style scoped>\n",
       "    .dataframe tbody tr th:only-of-type {\n",
       "        vertical-align: middle;\n",
       "    }\n",
       "\n",
       "    .dataframe tbody tr th {\n",
       "        vertical-align: top;\n",
       "    }\n",
       "\n",
       "    .dataframe thead th {\n",
       "        text-align: right;\n",
       "    }\n",
       "</style>\n",
       "<table border=\"1\" class=\"dataframe\">\n",
       "  <thead>\n",
       "    <tr style=\"text-align: right;\">\n",
       "      <th></th>\n",
       "      <th>HT</th>\n",
       "    </tr>\n",
       "  </thead>\n",
       "  <tbody>\n",
       "    <tr>\n",
       "      <th>0</th>\n",
       "      <td>0.468571</td>\n",
       "    </tr>\n",
       "    <tr>\n",
       "      <th>1</th>\n",
       "      <td>0.670000</td>\n",
       "    </tr>\n",
       "    <tr>\n",
       "      <th>2</th>\n",
       "      <td>0.380000</td>\n",
       "    </tr>\n",
       "    <tr>\n",
       "      <th>3</th>\n",
       "      <td>0.670000</td>\n",
       "    </tr>\n",
       "    <tr>\n",
       "      <th>4</th>\n",
       "      <td>0.680000</td>\n",
       "    </tr>\n",
       "  </tbody>\n",
       "</table>\n",
       "</div>"
      ],
      "text/plain": [
       "         HT\n",
       "0  0.468571\n",
       "1  0.670000\n",
       "2  0.380000\n",
       "3  0.670000\n",
       "4  0.680000"
      ]
     },
     "execution_count": 25,
     "metadata": {},
     "output_type": "execute_result"
    }
   ],
   "source": [
    "df = pd.read_csv('./Data/Durrumbul_WL.csv', usecols=[1])\n",
    "dataset   = df.values\n",
    "dataset   = dataset.astype('float32')\n",
    "df.head()"
   ]
  },
  {
   "cell_type": "code",
   "execution_count": 26,
   "id": "e6b159c7",
   "metadata": {},
   "outputs": [
    {
     "data": {
      "text/plain": [
       "[<matplotlib.lines.Line2D at 0x7fc3e9ac5e80>]"
      ]
     },
     "execution_count": 26,
     "metadata": {},
     "output_type": "execute_result"
    },
    {
     "data": {
      "image/png": "[encoded data removed]",
      "text/plain": [
       "<Figure size 432x288 with 1 Axes>"
      ]
     },
     "metadata": {
      "needs_background": "light"
     },
     "output_type": "display_data"
    }
   ],
   "source": [
    "plt.plot(df)"
   ]
  },
  {
   "cell_type": "code",
   "execution_count": 27,
   "id": "a0a2f69e",
   "metadata": {},
   "outputs": [],
   "source": [
    "scaler  = MinMaxScaler(feature_range=(0, 1))\n",
    "dataset = scaler.fit_transform(dataset)"
   ]
  },
  {
   "cell_type": "code",
   "execution_count": 28,
   "id": "248aa989",
   "metadata": {},
   "outputs": [
    {
     "name": "stdout",
     "output_type": "stream",
     "text": [
      "47310 23302\n"
     ]
    }
   ],
   "source": [
    "train_size  = int(len(dataset) * 0.67)\n",
    "test_size   = len(dataset) - train_size\n",
    "train, test = dataset[0:train_size,:], dataset[train_size:len(dataset),:]\n",
    "print(len(train), len(test))"
   ]
  },
  {
   "cell_type": "code",
   "execution_count": 29,
   "id": "3fd2eb8e",
   "metadata": {},
   "outputs": [],
   "source": [
    "# This function creates a sliding window of the dataset.\n",
    "def create_dataset(dataset, sliding_window=1):\n",
    "    dataX, dataY = [], []\n",
    "    for i in range(len(dataset)-sliding_window-1):\n",
    "        a = dataset[i:(i+sliding_window), 0]\n",
    "        dataX.append(a)\n",
    "        dataY.append(dataset[i + sliding_window, 0])\n",
    "    return np.array(dataX), np.array(dataY)"
   ]
  },
  {
   "cell_type": "code",
   "execution_count": 30,
   "id": "b294a41b",
   "metadata": {},
   "outputs": [],
   "source": [
    "slide_window   = 10\n",
    "trainX, trainY = create_dataset(train, slide_window)\n",
    "testX, testY   = create_dataset(test, slide_window)"
   ]
  },
  {
   "cell_type": "code",
   "execution_count": 31,
   "id": "510440ee",
   "metadata": {},
   "outputs": [],
   "source": [
    "trainX = np.reshape(trainX, (trainX.shape[0], 1, trainX.shape[1]))\n",
    "testX  = np.reshape(testX, (testX.shape[0], 1, testX.shape[1]))"
   ]
  },
  {
   "cell_type": "code",
   "execution_count": 33,
   "id": "5799cac7",
   "metadata": {},
   "outputs": [
    {
     "name": "stdout",
     "output_type": "stream",
     "text": [
      "Epoch 1/50\n",
      "47299/47299 - 65s - loss: 9.2568e-04 - 65s/epoch - 1ms/step\n",
      "Epoch 2/50\n",
      "47299/47299 - 62s - loss: 8.9593e-04 - 62s/epoch - 1ms/step\n",
      "Epoch 3/50\n",
      "47299/47299 - 61s - loss: 8.9018e-04 - 61s/epoch - 1ms/step\n",
      "Epoch 4/50\n",
      "47299/47299 - 61s - loss: 8.8668e-04 - 61s/epoch - 1ms/step\n",
      "Epoch 5/50\n",
      "47299/47299 - 61s - loss: 8.8416e-04 - 61s/epoch - 1ms/step\n",
      "Epoch 6/50\n",
      "47299/47299 - 61s - loss: 8.8221e-04 - 61s/epoch - 1ms/step\n",
      "Epoch 7/50\n",
      "47299/47299 - 61s - loss: 8.7957e-04 - 61s/epoch - 1ms/step\n",
      "Epoch 8/50\n",
      "47299/47299 - 61s - loss: 8.7994e-04 - 61s/epoch - 1ms/step\n",
      "Epoch 9/50\n",
      "47299/47299 - 61s - loss: 8.7843e-04 - 61s/epoch - 1ms/step\n",
      "Epoch 10/50\n",
      "47299/47299 - 64s - loss: 8.7720e-04 - 64s/epoch - 1ms/step\n",
      "Epoch 11/50\n",
      "47299/47299 - 73s - loss: 8.7685e-04 - 73s/epoch - 2ms/step\n",
      "Epoch 12/50\n",
      "47299/47299 - 68s - loss: 8.7835e-04 - 68s/epoch - 1ms/step\n",
      "Epoch 13/50\n",
      "47299/47299 - 61s - loss: 8.7690e-04 - 61s/epoch - 1ms/step\n",
      "Epoch 14/50\n",
      "47299/47299 - 61s - loss: 8.7600e-04 - 61s/epoch - 1ms/step\n",
      "Epoch 15/50\n",
      "47299/47299 - 61s - loss: 8.7655e-04 - 61s/epoch - 1ms/step\n",
      "Epoch 16/50\n",
      "47299/47299 - 61s - loss: 8.7627e-04 - 61s/epoch - 1ms/step\n",
      "Epoch 17/50\n",
      "47299/47299 - 61s - loss: 8.7616e-04 - 61s/epoch - 1ms/step\n",
      "Epoch 18/50\n",
      "47299/47299 - 61s - loss: 8.7569e-04 - 61s/epoch - 1ms/step\n",
      "Epoch 19/50\n",
      "47299/47299 - 61s - loss: 8.7522e-04 - 61s/epoch - 1ms/step\n",
      "Epoch 20/50\n",
      "47299/47299 - 61s - loss: 8.7468e-04 - 61s/epoch - 1ms/step\n",
      "Epoch 21/50\n",
      "47299/47299 - 61s - loss: 8.7552e-04 - 61s/epoch - 1ms/step\n",
      "Epoch 22/50\n",
      "47299/47299 - 68s - loss: 8.7544e-04 - 68s/epoch - 1ms/step\n",
      "Epoch 23/50\n",
      "47299/47299 - 75s - loss: 8.7362e-04 - 75s/epoch - 2ms/step\n",
      "Epoch 24/50\n",
      "47299/47299 - 69s - loss: 8.7390e-04 - 69s/epoch - 1ms/step\n",
      "Epoch 25/50\n",
      "47299/47299 - 61s - loss: 8.7524e-04 - 61s/epoch - 1ms/step\n",
      "Epoch 26/50\n",
      "47299/47299 - 61s - loss: 8.7472e-04 - 61s/epoch - 1ms/step\n",
      "Epoch 27/50\n",
      "47299/47299 - 61s - loss: 8.7438e-04 - 61s/epoch - 1ms/step\n",
      "Epoch 28/50\n",
      "47299/47299 - 61s - loss: 8.7437e-04 - 61s/epoch - 1ms/step\n",
      "Epoch 29/50\n",
      "47299/47299 - 61s - loss: 8.7384e-04 - 61s/epoch - 1ms/step\n",
      "Epoch 30/50\n",
      "47299/47299 - 61s - loss: 8.7414e-04 - 61s/epoch - 1ms/step\n",
      "Epoch 31/50\n",
      "47299/47299 - 61s - loss: 8.7518e-04 - 61s/epoch - 1ms/step\n",
      "Epoch 32/50\n",
      "47299/47299 - 61s - loss: 8.7439e-04 - 61s/epoch - 1ms/step\n",
      "Epoch 33/50\n",
      "47299/47299 - 61s - loss: 8.7325e-04 - 61s/epoch - 1ms/step\n",
      "Epoch 34/50\n",
      "47299/47299 - 68s - loss: 8.7333e-04 - 68s/epoch - 1ms/step\n",
      "Epoch 35/50\n",
      "47299/47299 - 82s - loss: 8.7291e-04 - 82s/epoch - 2ms/step\n",
      "Epoch 36/50\n",
      "47299/47299 - 75s - loss: 8.7425e-04 - 75s/epoch - 2ms/step\n",
      "Epoch 37/50\n",
      "47299/47299 - 61s - loss: 8.7404e-04 - 61s/epoch - 1ms/step\n",
      "Epoch 38/50\n",
      "47299/47299 - 61s - loss: 8.7216e-04 - 61s/epoch - 1ms/step\n",
      "Epoch 39/50\n",
      "47299/47299 - 61s - loss: 8.7266e-04 - 61s/epoch - 1ms/step\n",
      "Epoch 40/50\n",
      "47299/47299 - 61s - loss: 8.7235e-04 - 61s/epoch - 1ms/step\n",
      "Epoch 41/50\n",
      "47299/47299 - 61s - loss: 8.7320e-04 - 61s/epoch - 1ms/step\n",
      "Epoch 42/50\n",
      "47299/47299 - 61s - loss: 8.7327e-04 - 61s/epoch - 1ms/step\n",
      "Epoch 43/50\n",
      "47299/47299 - 61s - loss: 8.7358e-04 - 61s/epoch - 1ms/step\n",
      "Epoch 44/50\n",
      "47299/47299 - 61s - loss: 8.7321e-04 - 61s/epoch - 1ms/step\n",
      "Epoch 45/50\n",
      "47299/47299 - 61s - loss: 8.7292e-04 - 61s/epoch - 1ms/step\n",
      "Epoch 46/50\n",
      "47299/47299 - 65s - loss: 8.7315e-04 - 65s/epoch - 1ms/step\n",
      "Epoch 47/50\n",
      "47299/47299 - 74s - loss: 8.7151e-04 - 74s/epoch - 2ms/step\n",
      "Epoch 48/50\n",
      "47299/47299 - 75s - loss: 8.7293e-04 - 75s/epoch - 2ms/step\n",
      "Epoch 49/50\n",
      "47299/47299 - 61s - loss: 8.7318e-04 - 61s/epoch - 1ms/step\n",
      "Epoch 50/50\n",
      "47299/47299 - 61s - loss: 8.7155e-04 - 61s/epoch - 1ms/step\n"
     ]
    },
    {
     "data": {
      "text/plain": [
       "<keras.callbacks.History at 0x7fc3eb4dfac0>"
      ]
     },
     "execution_count": 33,
     "metadata": {},
     "output_type": "execute_result"
    }
   ],
   "source": [
    "model = Sequential()\n",
    "model.add(LSTM(4, input_dim=slide_window))\n",
    "model.add(Dense(1))\n",
    "model.compile(loss='mean_squared_error', optimizer='adam')\n",
    "model.fit(trainX, trainY, epochs=50, batch_size=1, verbose=2)"
   ]
  },
  {
   "cell_type": "code",
   "execution_count": 34,
   "id": "3f54df6e",
   "metadata": {},
   "outputs": [],
   "source": [
    "model.save('Durrumbul_WL.h5')"
   ]
  },
  {
   "cell_type": "code",
   "execution_count": 35,
   "id": "942e7708",
   "metadata": {},
   "outputs": [
    {
     "name": "stdout",
     "output_type": "stream",
     "text": [
      "Train Score: 0.54 RMSE\n",
      "Test Score: 0.48 RMSE\n"
     ]
    }
   ],
   "source": [
    "trainScore = model.evaluate(trainX, trainY, verbose=0)\n",
    "trainScore = math.sqrt(trainScore)\n",
    "trainScore = scaler.inverse_transform(np.array([[trainScore]]))\n",
    "print('Train Score: %.2f RMSE' % (trainScore))\n",
    "testScore = model.evaluate(testX, testY, verbose=0)\n",
    "testScore = math.sqrt(testScore)\n",
    "testScore = scaler.inverse_transform(np.array([[testScore]]))\n",
    "print('Test Score: %.2f RMSE' % (testScore))"
   ]
  },
  {
   "cell_type": "code",
   "execution_count": 70,
   "id": "a773dce4",
   "metadata": {},
   "outputs": [],
   "source": [
    "newdata = pd.read_csv('./Data/RainEvent_WL.csv')"
   ]
  },
  {
   "cell_type": "code",
   "execution_count": 71,
   "id": "1780a639",
   "metadata": {},
   "outputs": [],
   "source": [
    "newdata = newdata.drop(['LAT', 'LONG'], axis=1)"
   ]
  },
  {
   "cell_type": "code",
   "execution_count": 75,
   "id": "dbb7d742",
   "metadata": {},
   "outputs": [
    {
     "data": {
      "text/html": [
       "<div>\n",
       "<style scoped>\n",
       "    .dataframe tbody tr th:only-of-type {\n",
       "        vertical-align: middle;\n",
       "    }\n",
       "\n",
       "    .dataframe tbody tr th {\n",
       "        vertical-align: top;\n",
       "    }\n",
       "\n",
       "    .dataframe thead th {\n",
       "        text-align: right;\n",
       "    }\n",
       "</style>\n",
       "<table border=\"1\" class=\"dataframe\">\n",
       "  <thead>\n",
       "    <tr style=\"text-align: right;\">\n",
       "      <th></th>\n",
       "      <th>Unnamed: 0</th>\n",
       "      <th>PRCP</th>\n",
       "      <th>HT</th>\n",
       "    </tr>\n",
       "  </thead>\n",
       "  <tbody>\n",
       "    <tr>\n",
       "      <th>0</th>\n",
       "      <td>2005-11-26 00:00:00</td>\n",
       "      <td>0.2</td>\n",
       "      <td>1.52</td>\n",
       "    </tr>\n",
       "    <tr>\n",
       "      <th>1</th>\n",
       "      <td>2005-11-26 00:15:00</td>\n",
       "      <td>2.8</td>\n",
       "      <td>1.53</td>\n",
       "    </tr>\n",
       "    <tr>\n",
       "      <th>2</th>\n",
       "      <td>2005-11-26 00:30:00</td>\n",
       "      <td>3.8</td>\n",
       "      <td>1.52</td>\n",
       "    </tr>\n",
       "    <tr>\n",
       "      <th>3</th>\n",
       "      <td>2005-11-26 00:45:00</td>\n",
       "      <td>7.2</td>\n",
       "      <td>1.53</td>\n",
       "    </tr>\n",
       "    <tr>\n",
       "      <th>4</th>\n",
       "      <td>2005-11-26 01:00:00</td>\n",
       "      <td>9.6</td>\n",
       "      <td>1.54</td>\n",
       "    </tr>\n",
       "  </tbody>\n",
       "</table>\n",
       "</div>"
      ],
      "text/plain": [
       "            Unnamed: 0  PRCP    HT\n",
       "0  2005-11-26 00:00:00   0.2  1.52\n",
       "1  2005-11-26 00:15:00   2.8  1.53\n",
       "2  2005-11-26 00:30:00   3.8  1.52\n",
       "3  2005-11-26 00:45:00   7.2  1.53\n",
       "4  2005-11-26 01:00:00   9.6  1.54"
      ]
     },
     "execution_count": 75,
     "metadata": {},
     "output_type": "execute_result"
    }
   ],
   "source": [
    "newdata.head()"
   ]
  },
  {
   "cell_type": "code",
   "execution_count": 76,
   "id": "469a1bfa",
   "metadata": {},
   "outputs": [],
   "source": [
    "newdata[newdata['HT'] < 0] = 0"
   ]
  },
  {
   "cell_type": "code",
   "execution_count": 77,
   "id": "b1739373",
   "metadata": {},
   "outputs": [],
   "source": [
    "new_test = newdata['HT'].values"
   ]
  },
  {
   "cell_type": "code",
   "execution_count": 78,
   "id": "18568e2b",
   "metadata": {},
   "outputs": [
    {
     "data": {
      "text/plain": [
       "[<matplotlib.lines.Line2D at 0x7fc30a9563d0>]"
      ]
     },
     "execution_count": 78,
     "metadata": {},
     "output_type": "execute_result"
    },
    {
     "data": {
      "image/png": "[encoded data removed]",
      "text/plain": [
       "<Figure size 432x288 with 1 Axes>"
      ]
     },
     "metadata": {
      "needs_background": "light"
     },
     "output_type": "display_data"
    }
   ],
   "source": [
    "plt.plot(new_test[0:30000])"
   ]
  },
  {
   "cell_type": "code",
   "execution_count": 79,
   "id": "4dbd2e79",
   "metadata": {},
   "outputs": [],
   "source": [
    "unseen_clean = []\n",
    "for i in new_test:\n",
    "    unseen_clean.append([i])\n",
    "unseen_clean = np.asarray(unseen_clean).astype('float32')\n",
    "unseen_clean = scaler.fit_transform(unseen_clean)"
   ]
  },
  {
   "cell_type": "code",
   "execution_count": 80,
   "id": "65b235c8",
   "metadata": {},
   "outputs": [
    {
     "data": {
      "text/plain": [
       "<bound method DataFrame.info of                  Unnamed: 0  PRCP    HT\n",
       "0       2005-11-26 00:00:00   0.2  1.52\n",
       "1       2005-11-26 00:15:00   2.8  1.53\n",
       "2       2005-11-26 00:30:00   3.8  1.52\n",
       "3       2005-11-26 00:45:00   7.2  1.53\n",
       "4       2005-11-26 01:00:00   9.6  1.54\n",
       "...                     ...   ...   ...\n",
       "689957  2025-07-31 01:15:00   0.0  0.84\n",
       "689958  2025-07-31 01:30:00   0.0  0.85\n",
       "689959  2025-07-31 01:45:00   0.0  0.84\n",
       "689960  2025-07-31 02:00:00   0.0  0.85\n",
       "689961  2025-07-31 02:15:00   0.0  0.84\n",
       "\n",
       "[689962 rows x 3 columns]>"
      ]
     },
     "execution_count": 80,
     "metadata": {},
     "output_type": "execute_result"
    }
   ],
   "source": [
    "newdata.info"
   ]
  },
  {
   "cell_type": "code",
   "execution_count": 88,
   "id": "5117764e",
   "metadata": {},
   "outputs": [],
   "source": [
    "features,labels = create_dataset(unseen_clean, slide_window)\n",
    "features = np.reshape(features, (689951,1, 10)) "
   ]
  },
  {
   "cell_type": "code",
   "execution_count": 89,
   "id": "3c3c183e",
   "metadata": {},
   "outputs": [
    {
     "name": "stdout",
     "output_type": "stream",
     "text": [
      "21561/21561 [==============================] - 24s 1ms/step\n"
     ]
    }
   ],
   "source": [
    "result = model.predict(features)"
   ]
  },
  {
   "cell_type": "code",
   "execution_count": 90,
   "id": "380a0157",
   "metadata": {},
   "outputs": [
    {
     "data": {
      "image/png": "[encoded data removed]",
      "text/plain": [
       "<Figure size 432x288 with 1 Axes>"
      ]
     },
     "metadata": {
      "needs_background": "light"
     },
     "output_type": "display_data"
    },
    {
     "data": {
      "image/png": "[encoded data removed]",
      "text/plain": [
       "<Figure size 432x288 with 1 Axes>"
      ]
     },
     "metadata": {
      "needs_background": "light"
     },
     "output_type": "display_data"
    }
   ],
   "source": [
    "plt.plot(result)\n",
    "plt.show()\n",
    "\n",
    "plt.plot(labels)\n",
    "plt.show()"
   ]
  },
  {
   "cell_type": "code",
   "execution_count": 92,
   "id": "fa3b90ea",
   "metadata": {},
   "outputs": [
    {
     "name": "stdout",
     "output_type": "stream",
     "text": [
      "Test Score: 0.51 RMSE\n"
     ]
    }
   ],
   "source": [
    "testScore = model.evaluate(features, labels, verbose=0)\n",
    "testScore = math.sqrt(testScore)\n",
    "testScore = scaler.inverse_transform(np.array([[testScore]]))\n",
    "print('Test Score: %.2f RMSE' % (testScore))"
   ]
  },
  {
   "cell_type": "code",
   "execution_count": null,
   "id": "9ec2cccb",
   "metadata": {},
   "outputs": [],
   "source": []
  }
 ],
 "metadata": {
  "kernelspec": {
   "display_name": "Python 3 (ipykernel)",
   "language": "python",
   "name": "python3"
  },
  "language_info": {
   "codemirror_mode": {
    "name": "ipython",
    "version": 3
   },
   "file_extension": ".py",
   "mimetype": "text/x-python",
   "name": "python",
   "nbconvert_exporter": "python",
   "pygments_lexer": "ipython3",
   "version": "3.9.12"
  }
 },
 "nbformat": 4,
 "nbformat_minor": 5
}
