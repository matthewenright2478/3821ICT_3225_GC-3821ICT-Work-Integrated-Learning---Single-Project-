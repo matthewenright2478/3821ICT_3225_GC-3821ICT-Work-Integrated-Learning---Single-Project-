{
 "cells": [
  {
   "cell_type": "code",
   "execution_count": 1,
   "id": "01f10d86",
   "metadata": {},
   "outputs": [],
   "source": [
    "import pandas as pd\n",
    "import numpy as np\n",
    "import matplotlib.pyplot as plt\n",
    "import seaborn as sns\n",
    "\n",
    "from keras.models import Sequential\n",
    "from keras.layers import Dense\n",
    "from keras.layers import LSTM\n",
    "from keras.losses import mean_squared_error\n",
    "from tensorflow import keras\n",
    "from keras.optimizers import Adam\n",
    "from sklearn.model_selection import train_test_split\n",
    "from keras.utils import plot_model"
   ]
  },
  {
   "cell_type": "code",
   "execution_count": 2,
   "id": "bc437eae",
   "metadata": {},
   "outputs": [],
   "source": [
    "df = pd.read_csv('./Data/RainAccum_WL.csv')"
   ]
  },
  {
   "cell_type": "code",
   "execution_count": 3,
   "id": "352aba75",
   "metadata": {},
   "outputs": [],
   "source": [
    "df = df.rename(columns={'Unnamed: 0': 'Date_time'})"
   ]
  },
  {
   "cell_type": "code",
   "execution_count": 4,
   "id": "864764ab",
   "metadata": {},
   "outputs": [],
   "source": [
    "df.set_index(['Date_time'],inplace=True)"
   ]
  },
  {
   "cell_type": "code",
   "execution_count": 5,
   "id": "116116c7",
   "metadata": {},
   "outputs": [
    {
     "data": {
      "text/html": [
       "<div>\n",
       "<style scoped>\n",
       "    .dataframe tbody tr th:only-of-type {\n",
       "        vertical-align: middle;\n",
       "    }\n",
       "\n",
       "    .dataframe tbody tr th {\n",
       "        vertical-align: top;\n",
       "    }\n",
       "\n",
       "    .dataframe thead th {\n",
       "        text-align: right;\n",
       "    }\n",
       "</style>\n",
       "<table border=\"1\" class=\"dataframe\">\n",
       "  <thead>\n",
       "    <tr style=\"text-align: right;\">\n",
       "      <th></th>\n",
       "      <th>PRCP</th>\n",
       "      <th>LAT</th>\n",
       "      <th>LONG</th>\n",
       "      <th>HT</th>\n",
       "    </tr>\n",
       "    <tr>\n",
       "      <th>Date_time</th>\n",
       "      <th></th>\n",
       "      <th></th>\n",
       "      <th></th>\n",
       "      <th></th>\n",
       "    </tr>\n",
       "  </thead>\n",
       "  <tbody>\n",
       "    <tr>\n",
       "      <th>2005-11-26 00:00:00</th>\n",
       "      <td>1411.0</td>\n",
       "      <td>-28.5031</td>\n",
       "      <td>153.3817</td>\n",
       "      <td>1.52</td>\n",
       "    </tr>\n",
       "    <tr>\n",
       "      <th>2005-11-26 00:15:00</th>\n",
       "      <td>1411.0</td>\n",
       "      <td>-28.5031</td>\n",
       "      <td>153.3817</td>\n",
       "      <td>1.53</td>\n",
       "    </tr>\n",
       "    <tr>\n",
       "      <th>2005-11-26 00:30:00</th>\n",
       "      <td>1411.0</td>\n",
       "      <td>-28.5031</td>\n",
       "      <td>153.3817</td>\n",
       "      <td>1.52</td>\n",
       "    </tr>\n",
       "    <tr>\n",
       "      <th>2005-11-26 00:45:00</th>\n",
       "      <td>1411.0</td>\n",
       "      <td>-28.5031</td>\n",
       "      <td>153.3817</td>\n",
       "      <td>1.53</td>\n",
       "    </tr>\n",
       "    <tr>\n",
       "      <th>2005-11-26 01:00:00</th>\n",
       "      <td>1411.0</td>\n",
       "      <td>-28.5031</td>\n",
       "      <td>153.3817</td>\n",
       "      <td>1.54</td>\n",
       "    </tr>\n",
       "  </tbody>\n",
       "</table>\n",
       "</div>"
      ],
      "text/plain": [
       "                       PRCP      LAT      LONG    HT\n",
       "Date_time                                           \n",
       "2005-11-26 00:00:00  1411.0 -28.5031  153.3817  1.52\n",
       "2005-11-26 00:15:00  1411.0 -28.5031  153.3817  1.53\n",
       "2005-11-26 00:30:00  1411.0 -28.5031  153.3817  1.52\n",
       "2005-11-26 00:45:00  1411.0 -28.5031  153.3817  1.53\n",
       "2005-11-26 01:00:00  1411.0 -28.5031  153.3817  1.54"
      ]
     },
     "execution_count": 5,
     "metadata": {},
     "output_type": "execute_result"
    }
   ],
   "source": [
    "df.head()"
   ]
  },
  {
   "cell_type": "code",
   "execution_count": 6,
   "id": "a439d09c",
   "metadata": {},
   "outputs": [],
   "source": [
    "def show_corr_heatmap(df):\n",
    "    # https://medium.com/@szabo.bibor/how-to-create-a-seaborn-correlation-heatmap-in-python-834c0686b88e\n",
    "\n",
    "    plt.figure(figsize=(20, 10))\n",
    "\n",
    "    corr_matrix = df.corr()\n",
    "\n",
    "    # mask to hide the upper triangle of the symmetric corr-matrix\n",
    "    # mask = np.triu(np.ones_like(corr_matrix, dtype=np.bool))\n",
    "\n",
    "    heatmap = sns.heatmap(\n",
    "\n",
    "        # correlation matrix\n",
    "        corr_matrix,\n",
    "\n",
    "        # mask the top triangle of the matrix\n",
    "        # mask=mask,\n",
    "\n",
    "        # two-contrast color, different color for + -\n",
    "        cmap=\"PiYG\",\n",
    "\n",
    "        # color map range\n",
    "        vmin=-1, vmax=1,\n",
    "\n",
    "        # show corr values in the cells\n",
    "        annot=True\n",
    "    )\n",
    "\n",
    "    # set a title\n",
    "    heatmap.set_title('Correlation Heatmap', fontdict={'fontsize':20}, pad=16);\n",
    "\n",
    "    plt.show()"
   ]
  },
  {
   "cell_type": "code",
   "execution_count": 7,
   "id": "7f93e77b",
   "metadata": {},
   "outputs": [
    {
     "data": {
      "image/png": "[encoded data removed]",
      "text/plain": [
       "<Figure size 1440x720 with 2 Axes>"
      ]
     },
     "metadata": {
      "needs_background": "light"
     },
     "output_type": "display_data"
    }
   ],
   "source": [
    "show_corr_heatmap(df)"
   ]
  },
  {
   "cell_type": "code",
   "execution_count": 13,
   "id": "80a98dd6",
   "metadata": {},
   "outputs": [
    {
     "ename": "InvalidIndexError",
     "evalue": "(slice(None, None, None), 0)",
     "output_type": "error",
     "traceback": [
      "\u001b[0;31m---------------------------------------------------------------------------\u001b[0m",
      "\u001b[0;31mTypeError\u001b[0m                                 Traceback (most recent call last)",
      "File \u001b[0;32m/opt/anaconda3/lib/python3.9/site-packages/pandas/core/indexes/base.py:3621\u001b[0m, in \u001b[0;36mIndex.get_loc\u001b[0;34m(self, key, method, tolerance)\u001b[0m\n\u001b[1;32m   3620\u001b[0m \u001b[38;5;28;01mtry\u001b[39;00m:\n\u001b[0;32m-> 3621\u001b[0m     \u001b[38;5;28;01mreturn\u001b[39;00m \u001b[38;5;28;43mself\u001b[39;49m\u001b[38;5;241;43m.\u001b[39;49m\u001b[43m_engine\u001b[49m\u001b[38;5;241;43m.\u001b[39;49m\u001b[43mget_loc\u001b[49m\u001b[43m(\u001b[49m\u001b[43mcasted_key\u001b[49m\u001b[43m)\u001b[49m\n\u001b[1;32m   3622\u001b[0m \u001b[38;5;28;01mexcept\u001b[39;00m \u001b[38;5;167;01mKeyError\u001b[39;00m \u001b[38;5;28;01mas\u001b[39;00m err:\n",
      "File \u001b[0;32m/opt/anaconda3/lib/python3.9/site-packages/pandas/_libs/index.pyx:136\u001b[0m, in \u001b[0;36mpandas._libs.index.IndexEngine.get_loc\u001b[0;34m()\u001b[0m\n",
      "File \u001b[0;32m/opt/anaconda3/lib/python3.9/site-packages/pandas/_libs/index.pyx:142\u001b[0m, in \u001b[0;36mpandas._libs.index.IndexEngine.get_loc\u001b[0;34m()\u001b[0m\n",
      "\u001b[0;31mTypeError\u001b[0m: '(slice(None, None, None), 0)' is an invalid key",
      "\nDuring handling of the above exception, another exception occurred:\n",
      "\u001b[0;31mInvalidIndexError\u001b[0m                         Traceback (most recent call last)",
      "Input \u001b[0;32mIn [13]\u001b[0m, in \u001b[0;36m<cell line: 20>\u001b[0;34m()\u001b[0m\n\u001b[1;32m     17\u001b[0m     \u001b[38;5;28;01mreturn\u001b[39;00m xlims, ylims, buffer\n\u001b[1;32m     19\u001b[0m data \u001b[38;5;241m=\u001b[39m df \u001b[38;5;66;03m# data.shape = (310216, 2) <<< your data here\u001b[39;00m\n\u001b[0;32m---> 20\u001b[0m xlims, ylims, I \u001b[38;5;241m=\u001b[39m \u001b[43mplot_to_buf\u001b[49m\u001b[43m(\u001b[49m\u001b[43mdata\u001b[49m\u001b[43m,\u001b[49m\u001b[43m \u001b[49m\u001b[43mheight\u001b[49m\u001b[38;5;241;43m=\u001b[39;49m\u001b[38;5;241;43m100\u001b[39;49m\u001b[43m,\u001b[49m\u001b[43m \u001b[49m\u001b[43mwidth\u001b[49m\u001b[38;5;241;43m=\u001b[39;49m\u001b[38;5;241;43m100\u001b[39;49m\u001b[43m,\u001b[49m\u001b[43m \u001b[49m\u001b[43minc\u001b[49m\u001b[38;5;241;43m=\u001b[39;49m\u001b[38;5;241;43m0.3\u001b[39;49m\u001b[43m)\u001b[49m\n\u001b[1;32m     21\u001b[0m ax_extent \u001b[38;5;241m=\u001b[39m \u001b[38;5;28mlist\u001b[39m(xlims)\u001b[38;5;241m+\u001b[39m\u001b[38;5;28mlist\u001b[39m(ylims)\n\u001b[1;32m     22\u001b[0m plt\u001b[38;5;241m.\u001b[39mimshow(I,\n\u001b[1;32m     23\u001b[0m            vmin\u001b[38;5;241m=\u001b[39m\u001b[38;5;241m0\u001b[39m,\n\u001b[1;32m     24\u001b[0m            vmax\u001b[38;5;241m=\u001b[39m\u001b[38;5;241m1\u001b[39m, \n\u001b[0;32m   (...)\u001b[0m\n\u001b[1;32m     28\u001b[0m            extent\u001b[38;5;241m=\u001b[39max_extent\n\u001b[1;32m     29\u001b[0m            )\n",
      "Input \u001b[0;32mIn [13]\u001b[0m, in \u001b[0;36mplot_to_buf\u001b[0;34m(data, height, width, inc)\u001b[0m\n\u001b[1;32m      1\u001b[0m \u001b[38;5;28;01mdef\u001b[39;00m \u001b[38;5;21mplot_to_buf\u001b[39m(data, height\u001b[38;5;241m=\u001b[39m\u001b[38;5;241m2800\u001b[39m, width\u001b[38;5;241m=\u001b[39m\u001b[38;5;241m2800\u001b[39m, inc\u001b[38;5;241m=\u001b[39m\u001b[38;5;241m0.3\u001b[39m):\n\u001b[0;32m----> 2\u001b[0m     xlims \u001b[38;5;241m=\u001b[39m (\u001b[43mdata\u001b[49m\u001b[43m[\u001b[49m\u001b[43m:\u001b[49m\u001b[43m,\u001b[49m\u001b[38;5;241;43m0\u001b[39;49m\u001b[43m]\u001b[49m\u001b[38;5;241m.\u001b[39mmin(), data[:,\u001b[38;5;241m0\u001b[39m]\u001b[38;5;241m.\u001b[39mmax())\n\u001b[1;32m      3\u001b[0m     ylims \u001b[38;5;241m=\u001b[39m (data[:,\u001b[38;5;241m1\u001b[39m]\u001b[38;5;241m.\u001b[39mmin(), data[:,\u001b[38;5;241m1\u001b[39m]\u001b[38;5;241m.\u001b[39mmax())\n\u001b[1;32m      4\u001b[0m     dxl \u001b[38;5;241m=\u001b[39m xlims[\u001b[38;5;241m1\u001b[39m] \u001b[38;5;241m-\u001b[39m xlims[\u001b[38;5;241m0\u001b[39m]\n",
      "File \u001b[0;32m/opt/anaconda3/lib/python3.9/site-packages/pandas/core/frame.py:3505\u001b[0m, in \u001b[0;36mDataFrame.__getitem__\u001b[0;34m(self, key)\u001b[0m\n\u001b[1;32m   3503\u001b[0m \u001b[38;5;28;01mif\u001b[39;00m \u001b[38;5;28mself\u001b[39m\u001b[38;5;241m.\u001b[39mcolumns\u001b[38;5;241m.\u001b[39mnlevels \u001b[38;5;241m>\u001b[39m \u001b[38;5;241m1\u001b[39m:\n\u001b[1;32m   3504\u001b[0m     \u001b[38;5;28;01mreturn\u001b[39;00m \u001b[38;5;28mself\u001b[39m\u001b[38;5;241m.\u001b[39m_getitem_multilevel(key)\n\u001b[0;32m-> 3505\u001b[0m indexer \u001b[38;5;241m=\u001b[39m \u001b[38;5;28;43mself\u001b[39;49m\u001b[38;5;241;43m.\u001b[39;49m\u001b[43mcolumns\u001b[49m\u001b[38;5;241;43m.\u001b[39;49m\u001b[43mget_loc\u001b[49m\u001b[43m(\u001b[49m\u001b[43mkey\u001b[49m\u001b[43m)\u001b[49m\n\u001b[1;32m   3506\u001b[0m \u001b[38;5;28;01mif\u001b[39;00m is_integer(indexer):\n\u001b[1;32m   3507\u001b[0m     indexer \u001b[38;5;241m=\u001b[39m [indexer]\n",
      "File \u001b[0;32m/opt/anaconda3/lib/python3.9/site-packages/pandas/core/indexes/base.py:3628\u001b[0m, in \u001b[0;36mIndex.get_loc\u001b[0;34m(self, key, method, tolerance)\u001b[0m\n\u001b[1;32m   3623\u001b[0m         \u001b[38;5;28;01mraise\u001b[39;00m \u001b[38;5;167;01mKeyError\u001b[39;00m(key) \u001b[38;5;28;01mfrom\u001b[39;00m \u001b[38;5;21;01merr\u001b[39;00m\n\u001b[1;32m   3624\u001b[0m     \u001b[38;5;28;01mexcept\u001b[39;00m \u001b[38;5;167;01mTypeError\u001b[39;00m:\n\u001b[1;32m   3625\u001b[0m         \u001b[38;5;66;03m# If we have a listlike key, _check_indexing_error will raise\u001b[39;00m\n\u001b[1;32m   3626\u001b[0m         \u001b[38;5;66;03m#  InvalidIndexError. Otherwise we fall through and re-raise\u001b[39;00m\n\u001b[1;32m   3627\u001b[0m         \u001b[38;5;66;03m#  the TypeError.\u001b[39;00m\n\u001b[0;32m-> 3628\u001b[0m         \u001b[38;5;28;43mself\u001b[39;49m\u001b[38;5;241;43m.\u001b[39;49m\u001b[43m_check_indexing_error\u001b[49m\u001b[43m(\u001b[49m\u001b[43mkey\u001b[49m\u001b[43m)\u001b[49m\n\u001b[1;32m   3629\u001b[0m         \u001b[38;5;28;01mraise\u001b[39;00m\n\u001b[1;32m   3631\u001b[0m \u001b[38;5;66;03m# GH#42269\u001b[39;00m\n",
      "File \u001b[0;32m/opt/anaconda3/lib/python3.9/site-packages/pandas/core/indexes/base.py:5637\u001b[0m, in \u001b[0;36mIndex._check_indexing_error\u001b[0;34m(self, key)\u001b[0m\n\u001b[1;32m   5633\u001b[0m \u001b[38;5;28;01mdef\u001b[39;00m \u001b[38;5;21m_check_indexing_error\u001b[39m(\u001b[38;5;28mself\u001b[39m, key):\n\u001b[1;32m   5634\u001b[0m     \u001b[38;5;28;01mif\u001b[39;00m \u001b[38;5;129;01mnot\u001b[39;00m is_scalar(key):\n\u001b[1;32m   5635\u001b[0m         \u001b[38;5;66;03m# if key is not a scalar, directly raise an error (the code below\u001b[39;00m\n\u001b[1;32m   5636\u001b[0m         \u001b[38;5;66;03m# would convert to numpy arrays and raise later any way) - GH29926\u001b[39;00m\n\u001b[0;32m-> 5637\u001b[0m         \u001b[38;5;28;01mraise\u001b[39;00m InvalidIndexError(key)\n",
      "\u001b[0;31mInvalidIndexError\u001b[0m: (slice(None, None, None), 0)"
     ]
    }
   ],
   "source": [
    "def plot_to_buf(data, height=2800, width=2800, inc=0.3):\n",
    "    xlims = (data[:,0].min(), data[:,0].max())\n",
    "    ylims = (data[:,1].min(), data[:,1].max())\n",
    "    dxl = xlims[1] - xlims[0]\n",
    "    dyl = ylims[1] - ylims[0]\n",
    "\n",
    "    print('xlims: (%f, %f)' % xlims)\n",
    "    print('ylims: (%f, %f)' % ylims)\n",
    "\n",
    "    buffer = np.zeros((height+1, width+1))\n",
    "    for i, p in enumerate(data):\n",
    "        print('\\rloading: %03d' % (float(i)/data.shape[0]*100), end=' ')\n",
    "        x0 = int(round(((p[0] - xlims[0]) / dxl) * width))\n",
    "        y0 = int(round((1 - (p[1] - ylims[0]) / dyl) * height))\n",
    "        buffer[y0, x0] += inc\n",
    "        if buffer[y0, x0] > 1.0: buffer[y0, x0] = 1.0\n",
    "    return xlims, ylims, buffer\n",
    "\n",
    "data = df # data.shape = (310216, 2) <<< your data here\n",
    "xlims, ylims, I = plot_to_buf(data, height=100, width=100, inc=0.3)\n",
    "ax_extent = list(xlims)+list(ylims)\n",
    "plt.imshow(I,\n",
    "           vmin=0,\n",
    "           vmax=1, \n",
    "           cmap=plt.get_cmap('hot'),\n",
    "           interpolation='lanczos',\n",
    "           aspect='auto',\n",
    "           extent=ax_extent\n",
    "           )\n",
    "plt.grid(alpha=0.2)\n",
    "plt.title('Latent space')\n",
    "plt.colorbar()"
   ]
  },
  {
   "cell_type": "code",
   "execution_count": 11,
   "id": "af2daffe",
   "metadata": {},
   "outputs": [
    {
     "data": {
      "text/plain": [
       "<AxesSubplot:xlabel='Date_time'>"
      ]
     },
     "execution_count": 11,
     "metadata": {},
     "output_type": "execute_result"
    },
    {
     "data": {
      "image/png": "[encoded data removed]",
      "text/plain": [
       "<Figure size 432x288 with 1 Axes>"
      ]
     },
     "metadata": {
      "needs_background": "light"
     },
     "output_type": "display_data"
    }
   ],
   "source": [
    "df['PRCP'].plot()"
   ]
  },
  {
   "cell_type": "code",
   "execution_count": 13,
   "id": "736a3ddc",
   "metadata": {},
   "outputs": [],
   "source": [
    "X = df.drop(['DayAvg', 'GMT','variable'], axis=1) #all columns except PRCP and RAIN, as both give the answer away.\n",
    "y = df[\"DayAvg\"]"
   ]
  },
  {
   "cell_type": "code",
   "execution_count": 14,
   "id": "b1d8927d",
   "metadata": {},
   "outputs": [],
   "source": [
    "random_state = 44\n",
    "X_train, X_test, y_train, y_test = train_test_split(X, y, test_size=0.2, random_state=random_state)"
   ]
  },
  {
   "cell_type": "code",
   "execution_count": 109,
   "id": "5799cac7",
   "metadata": {},
   "outputs": [
    {
     "name": "stdout",
     "output_type": "stream",
     "text": [
      "Epoch 1/10\n",
      "3024/3024 [==============================] - 11s 2ms/step - loss: 120.2429 - val_loss: 62.9236\n",
      "Epoch 2/10\n",
      "3024/3024 [==============================] - 6s 2ms/step - loss: 62.0251 - val_loss: 61.5911\n",
      "Epoch 3/10\n",
      "3024/3024 [==============================] - 4s 1ms/step - loss: 60.9592 - val_loss: 61.0791\n",
      "Epoch 4/10\n",
      "3024/3024 [==============================] - 4s 1ms/step - loss: 60.1282 - val_loss: 59.9073\n",
      "Epoch 5/10\n",
      "3024/3024 [==============================] - 4s 1ms/step - loss: 59.2659 - val_loss: 59.3158\n",
      "Epoch 6/10\n",
      "3024/3024 [==============================] - 4s 1ms/step - loss: 58.7846 - val_loss: 59.6975\n",
      "Epoch 7/10\n",
      "3024/3024 [==============================] - 4s 1ms/step - loss: 58.4143 - val_loss: 59.5047\n",
      "Epoch 8/10\n",
      "3024/3024 [==============================] - 4s 1ms/step - loss: 58.1162 - val_loss: 58.6342\n",
      "Epoch 9/10\n",
      "3024/3024 [==============================] - 4s 1ms/step - loss: 57.8816 - val_loss: 58.5334\n",
      "Epoch 10/10\n",
      "3024/3024 [==============================] - 4s 1ms/step - loss: 57.8013 - val_loss: 58.4807\n"
     ]
    },
    {
     "data": {
      "text/plain": [
       "<matplotlib.legend.Legend at 0x23aa628f7f0>"
      ]
     },
     "execution_count": 109,
     "metadata": {},
     "output_type": "execute_result"
    },
    {
     "data": {
      "image/png": "[encoded data removed]",
      "text/plain": [
       "<Figure size 432x288 with 1 Axes>"
      ]
     },
     "metadata": {
      "needs_background": "light"
     },
     "output_type": "display_data"
    }
   ],
   "source": [
    "model = keras.Sequential()\n",
    "model.add(keras.layers.Dense(8))\n",
    "model.add(keras.layers.Dense(1))\n",
    "model.compile(optimizer='Adam', loss='mse')\n",
    "\n",
    "# This builds the model for the first time:\n",
    "history = model.fit(X_train, y_train, batch_size=32, epochs=10, validation_data=(X_test, y_test))\n",
    "\n",
    "plt.plot(history.history['loss'])\n",
    "plt.plot(history.history['val_loss'])\n",
    "plt.title(' train loss vs validation loss')\n",
    "plt.ylabel('loss')\n",
    "plt.xlabel('epoch')\n",
    "plt.legend(['train', 'validation'], loc='upper right')"
   ]
  },
  {
   "cell_type": "code",
   "execution_count": 22,
   "id": "7ae9c675",
   "metadata": {},
   "outputs": [
    {
     "data": {
      "text/plain": [
       "(120945, 5)"
      ]
     },
     "execution_count": 22,
     "metadata": {},
     "output_type": "execute_result"
    }
   ],
   "source": [
    "X.shape"
   ]
  },
  {
   "cell_type": "code",
   "execution_count": 28,
   "id": "209ebc33",
   "metadata": {},
   "outputs": [
    {
     "ename": "AttributeError",
     "evalue": "'DataFrame' object has no attribute 'reshape'",
     "output_type": "error",
     "traceback": [
      "\u001b[0;31m---------------------------------------------------------------------------\u001b[0m",
      "\u001b[0;31mAttributeError\u001b[0m                            Traceback (most recent call last)",
      "Input \u001b[0;32mIn [28]\u001b[0m, in \u001b[0;36m<cell line: 1>\u001b[0;34m()\u001b[0m\n\u001b[0;32m----> 1\u001b[0m X \u001b[38;5;241m=\u001b[39m \u001b[43mX\u001b[49m\u001b[38;5;241;43m.\u001b[39;49m\u001b[43mreshape\u001b[49m(\u001b[38;5;241m1\u001b[39m,\u001b[38;5;241m1\u001b[39m,\u001b[38;5;241m1\u001b[39m)\n",
      "File \u001b[0;32m/opt/anaconda3/lib/python3.9/site-packages/pandas/core/generic.py:5575\u001b[0m, in \u001b[0;36mNDFrame.__getattr__\u001b[0;34m(self, name)\u001b[0m\n\u001b[1;32m   5568\u001b[0m \u001b[38;5;28;01mif\u001b[39;00m (\n\u001b[1;32m   5569\u001b[0m     name \u001b[38;5;129;01mnot\u001b[39;00m \u001b[38;5;129;01min\u001b[39;00m \u001b[38;5;28mself\u001b[39m\u001b[38;5;241m.\u001b[39m_internal_names_set\n\u001b[1;32m   5570\u001b[0m     \u001b[38;5;129;01mand\u001b[39;00m name \u001b[38;5;129;01mnot\u001b[39;00m \u001b[38;5;129;01min\u001b[39;00m \u001b[38;5;28mself\u001b[39m\u001b[38;5;241m.\u001b[39m_metadata\n\u001b[1;32m   5571\u001b[0m     \u001b[38;5;129;01mand\u001b[39;00m name \u001b[38;5;129;01mnot\u001b[39;00m \u001b[38;5;129;01min\u001b[39;00m \u001b[38;5;28mself\u001b[39m\u001b[38;5;241m.\u001b[39m_accessors\n\u001b[1;32m   5572\u001b[0m     \u001b[38;5;129;01mand\u001b[39;00m \u001b[38;5;28mself\u001b[39m\u001b[38;5;241m.\u001b[39m_info_axis\u001b[38;5;241m.\u001b[39m_can_hold_identifiers_and_holds_name(name)\n\u001b[1;32m   5573\u001b[0m ):\n\u001b[1;32m   5574\u001b[0m     \u001b[38;5;28;01mreturn\u001b[39;00m \u001b[38;5;28mself\u001b[39m[name]\n\u001b[0;32m-> 5575\u001b[0m \u001b[38;5;28;01mreturn\u001b[39;00m \u001b[38;5;28;43mobject\u001b[39;49m\u001b[38;5;241;43m.\u001b[39;49m\u001b[38;5;21;43m__getattribute__\u001b[39;49m\u001b[43m(\u001b[49m\u001b[38;5;28;43mself\u001b[39;49m\u001b[43m,\u001b[49m\u001b[43m \u001b[49m\u001b[43mname\u001b[49m\u001b[43m)\u001b[49m\n",
      "\u001b[0;31mAttributeError\u001b[0m: 'DataFrame' object has no attribute 'reshape'"
     ]
    }
   ],
   "source": [
    "X = X.reshape(1,1,1)"
   ]
  },
  {
   "cell_type": "code",
   "execution_count": 15,
   "id": "b140f416",
   "metadata": {},
   "outputs": [
    {
     "ename": "IndexError",
     "evalue": "tuple index out of range",
     "output_type": "error",
     "traceback": [
      "\u001b[0;31m---------------------------------------------------------------------------\u001b[0m",
      "\u001b[0;31mIndexError\u001b[0m                                Traceback (most recent call last)",
      "Input \u001b[0;32mIn [15]\u001b[0m, in \u001b[0;36m<cell line: 2>\u001b[0;34m()\u001b[0m\n\u001b[1;32m      1\u001b[0m model \u001b[38;5;241m=\u001b[39m keras\u001b[38;5;241m.\u001b[39mSequential()\n\u001b[0;32m----> 2\u001b[0m model\u001b[38;5;241m.\u001b[39madd(keras\u001b[38;5;241m.\u001b[39mlayers\u001b[38;5;241m.\u001b[39mLSTM(\u001b[38;5;241m50\u001b[39m, return_sequences\u001b[38;5;241m=\u001b[39m\u001b[38;5;28;01mTrue\u001b[39;00m, input_shape\u001b[38;5;241m=\u001b[39m(X_train\u001b[38;5;241m.\u001b[39mshape[\u001b[38;5;241m1\u001b[39m], \u001b[43mX_train\u001b[49m\u001b[38;5;241;43m.\u001b[39;49m\u001b[43mshape\u001b[49m\u001b[43m[\u001b[49m\u001b[38;5;241;43m2\u001b[39;49m\u001b[43m]\u001b[49m)))\n\u001b[1;32m      3\u001b[0m model\u001b[38;5;241m.\u001b[39madd(keras\u001b[38;5;241m.\u001b[39mlayers\u001b[38;5;241m.\u001b[39mDense(\u001b[38;5;241m8\u001b[39m))\n\u001b[1;32m      4\u001b[0m model\u001b[38;5;241m.\u001b[39madd(keras\u001b[38;5;241m.\u001b[39mlayers\u001b[38;5;241m.\u001b[39mDense(\u001b[38;5;241m1\u001b[39m))\n",
      "\u001b[0;31mIndexError\u001b[0m: tuple index out of range"
     ]
    }
   ],
   "source": [
    "model = keras.Sequential()\n",
    "model.add(keras.layers.LSTM(50, return_sequences=True, input_shape=(X_train.shape[1], X_train.shape[2])))\n",
    "model.add(keras.layers.Dense(8))\n",
    "model.add(keras.layers.Dense(1))\n",
    "model.compile(optimizer='Adam', loss='mse')\n",
    "\n",
    "# This builds the model for the first time:\n",
    "history = model.fit(X_train, y_train, batch_size=32, epochs=50, validation_data=(X_test, y_test))\n",
    "\n",
    "plt.plot(history.history['loss'])\n",
    "plt.plot(history.history['val_loss'])\n",
    "plt.title(' train loss vs validation loss')\n",
    "plt.ylabel('loss')\n",
    "plt.xlabel('epoch')\n",
    "plt.legend(['train', 'validation'], loc='upper right')"
   ]
  },
  {
   "cell_type": "code",
   "execution_count": null,
   "id": "0db8e795",
   "metadata": {},
   "outputs": [],
   "source": []
  }
 ],
 "metadata": {
  "kernelspec": {
   "display_name": "Python 3 (ipykernel)",
   "language": "python",
   "name": "python3"
  },
  "language_info": {
   "codemirror_mode": {
    "name": "ipython",
    "version": 3
   },
   "file_extension": ".py",
   "mimetype": "text/x-python",
   "name": "python",
   "nbconvert_exporter": "python",
   "pygments_lexer": "ipython3",
   "version": "3.9.12"
  }
 },
 "nbformat": 4,
 "nbformat_minor": 5
}
