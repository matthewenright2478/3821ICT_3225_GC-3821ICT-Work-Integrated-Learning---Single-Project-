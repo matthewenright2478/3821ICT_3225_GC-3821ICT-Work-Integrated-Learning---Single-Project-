{
 "cells": [
  {
   "cell_type": "code",
   "execution_count": 106,
   "metadata": {},
   "outputs": [],
   "source": [
    "## importing libraries ##\n",
    "import pandas as pd\n",
    "import re"
   ]
  },
  {
   "cell_type": "code",
   "execution_count": 107,
   "metadata": {},
   "outputs": [],
   "source": [
    "## Definining variables ##\n",
    "eventDatasets=[ 'rain_event_58216_2.csv',     'rain_event_558000_1.csv',\n",
    "             'rain_event_558036_2.csv',    'rain_event_558025_1.csv',\n",
    "             'rain_event_558031_1.csv',    'rain_event_558033_1.csv',\n",
    "             \"rain_event_558036_2.csv\",    'rain_event_558046_1.csv',\n",
    "             'rain_event_558049_1.csv',    'rain_event_558053_1.csv']\n",
    "\n",
    "accumDatasets = ['rain_accum_558034_1.csv','rain_accum_558033_1.csv','rain_accum_558031_1.csv',\n",
    "'rain_accum_558028_1.csv','rain_accum_558025_1.csv','rain_accum_558018_1.csv',\n",
    "'rain_accum_558008_1.csv','rain_accum_558005_1.csv','rain_accum_558000_1.csv'\n",
    ",'rain_accum_558112_1.csv','rain_accum_558112_0.csv','rain_accum_558109_1.csv',\n",
    " 'rain_accum_558107_1.csv','rain_accum_558107_0.csv','rain_accum_558106_1.csv',\n",
    " 'rain_accum_558106_0.csv','rain_accum_558104_1.csv','rain_accum_558104_0.csv',\n",
    "'rain_accum_558099_1.csv','rain_accum_558099_0.csv','rain_accum_558096_1.csv',\n",
    "'rain_accum_558095_1.csv','rain_accum_558094_1.csv','rain_accum_558084_1.csv',\n",
    "'rain_accum_558083_1.csv','rain_accum_558078_1.csv','rain_accum_558066_1.csv',\n",
    "'rain_accum_558053_1.csv','rain_accum_558049_1.csv','rain_accum_558046_1.csv',\n",
    " 'rain_accum_558036_1.csv','rain_accum_58167_1.csv','rain_accum_58147_1.csv',\n",
    "'rain_accum_58019_1.csv']\n",
    "\n",
    "riverHeightData = [\"wl_558004_1.csv\",\"wl_558007_1.csv\",\"wl_558007_3.csv\",\"wl_558008_1.csv\",\"wl_558020_1.csv\",\n",
    "\"wl_558063_1.csv\",\"wl_558096_1.csv\",\"wl_558108_1.csv\",\"wl_558112_1.csv\"]\n",
    "\n",
    "df,cf,rf = pd.DataFrame(), pd.DataFrame(), pd.DataFrame()"
   ]
  },
  {
   "cell_type": "code",
   "execution_count": 108,
   "metadata": {},
   "outputs": [],
   "source": [
    "## Cominbing events datasets ##\n",
    "for i in eventDatasets:\n",
    "    data, names = pd.read_csv(i), re.search('[0-9]+',i)   \n",
    "    data['LOC'] = data.loc[:,'LOC'] = names.group()\n",
    "    df = pd.concat([df,data])\n",
    "    \n",
    "df['LOC_NAME'],  df['LAT'],  df['LONG'] = df.LOC, df.LOC, df.LOC"
   ]
  },
  {
   "cell_type": "code",
   "execution_count": 109,
   "metadata": {},
   "outputs": [],
   "source": [
    "## Combining AccumDatasets ##\n",
    "for i in accumDatasets:\n",
    "    data, names = pd.read_csv(i), re.search('[0-9]+',i)\n",
    "    data['LOC'] = data.loc[:,'LOC'] = names.group()\n",
    "    cf = pd.concat([cf,data])\n",
    "\n",
    "cf['LOC_NAME'],  cf['LAT'],  cf['LONG'] = cf.LOC, cf.LOC, cf.LOC"
   ]
  },
  {
   "cell_type": "code",
   "execution_count": 110,
   "metadata": {},
   "outputs": [],
   "source": [
    "## Combing Riverheightdata ##\n",
    "for i in riverHeightData:\n",
    "    data, names = pd.read_csv(i), re.search('[0-9]+',i)\n",
    "    data['LOC'] = data.loc[:,'LOC'] = names.group()\n",
    "    rf = pd.concat([rf,data])\n",
    "    \n",
    "rf['LOC_NAME'],  rf['LAT'],  rf['LONG'] = rf.LOC, rf.LOC, rf.LOC"
   ]
  },
  {
   "cell_type": "code",
   "execution_count": 111,
   "metadata": {},
   "outputs": [],
   "source": [
    "## Adding correct names, LAT and LONG to Rain event dataset ##\n",
    "locData = pd.read_csv('sites_rain_event.csv')\n",
    "\n",
    "\n",
    "for i in range(0,len(df.LOC)): \n",
    "    for j in range(0,len(locData.STN_NUM.values)):\n",
    "        if df.LOC.values[i] == str(locData.STN_NUM.values[j]):\n",
    "             df.LOC_NAME.values[i],df.LAT.values[i],df.LONG.values[i] = locData.Name[j], locData.LAT[j], locData.LONG[j]"
   ]
  },
  {
   "cell_type": "code",
   "execution_count": 91,
   "metadata": {},
   "outputs": [],
   "source": [
    "## Adding correct names, LAT and LONG to accumulation rain dataset ##\n",
    "locData = pd.read_csv('sites_rain_accum.csv')\n",
    "\n",
    "\n",
    "for i in range(0,len(cf.LOC)): \n",
    "    for j in range(0,len(locData.STN_NUM.values)):\n",
    "        if cf.LOC.values[i] == str(locData.STN_NUM.values[j]):\n",
    "            cf.LOC_NAME.values[i],cf.LAT.values[i],cf.LONG.values[i] = locData.Name[j], locData.LAT[j], locData.LONG[j]"
   ]
  },
  {
   "cell_type": "code",
   "execution_count": 103,
   "metadata": {},
   "outputs": [],
   "source": [
    "## Adding correct names, LAT and LONG to dataset for river height data ##\n",
    "locData = pd.read_csv('riverData.csv.csv')\n",
    "\n",
    "\n",
    "for i in range(0,len(rf.LOC)): \n",
    "    for j in range(0,len(locData.STN_NUM.values)):\n",
    "        if rf.LOC.values[i] == str(locData.STN_NUM.values[j]):\n",
    "            rf.LOC_NAME.values[i],rf.LAT.values[i],rf.LONG.values[i] = locData.Name[j], locData.LAT[j], locData.LONG[j]"
   ]
  },
  {
   "cell_type": "code",
   "execution_count": null,
   "metadata": {},
   "outputs": [],
   "source": []
  }
 ],
 "metadata": {
  "kernelspec": {
   "display_name": "Python 3 (ipykernel)",
   "language": "python",
   "name": "python3"
  },
  "language_info": {
   "codemirror_mode": {
    "name": "ipython",
    "version": 3
   },
   "file_extension": ".py",
   "mimetype": "text/x-python",
   "name": "python",
   "nbconvert_exporter": "python",
   "pygments_lexer": "ipython3",
   "version": "3.7.13"
  }
 },
 "nbformat": 4,
 "nbformat_minor": 4
}
