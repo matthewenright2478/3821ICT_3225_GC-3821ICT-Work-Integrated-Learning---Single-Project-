{
 "cells": [
  {
   "cell_type": "code",
   "execution_count": 65,
   "id": "80fbd2cb",
   "metadata": {},
   "outputs": [],
   "source": [
    "## Importing Libraries ##\n",
    "import pandas as pd\n",
    "import numpy as np\n",
    "import seaborn as sns\n",
    "import xlrd\n",
    "import openpyxl\n",
    "from datetime import datetime\n",
    "from sklearn import *\n",
    "import copy"
   ]
  },
  {
   "cell_type": "code",
   "execution_count": 66,
   "id": "9c381f57",
   "metadata": {},
   "outputs": [],
   "source": [
    "## Variable declaration ##\n",
    "df, cf, rf = pd.read_csv('eventDatasets'), pd.read_csv('AccumusDatasets'), pd.read_csv('riverHeightDatasets')\n",
    "\n",
    "RGEO, CGEO = rf[['LAT','LONG']].value_counts().index, cf[['LAT','LONG']].value_counts().index"
   ]
  },
  {
   "cell_type": "code",
   "execution_count": 67,
   "id": "ab45464c",
   "metadata": {},
   "outputs": [],
   "source": [
    "## Converting minutes and seconds to hours ##\n",
    "rf['OBS_TIME_LOC'] = pd.to_datetime(rf['OBS_TIME_LOC'])\n",
    "rf['OBS_TIME_LOC'] = pd.to_datetime(rf['OBS_TIME_LOC'].dt.strftime('%Y-%m-%d %H'))\n",
    "\n",
    "rf['PRCP_HOUR'] = rf.groupby([rf['LOC_NAME'].values,rf['OBS_TIME_LOC'].dt.date])['PRCP'].transform('max')\n",
    "rf = rf.drop(['VOID_FLAG','Unnamed: 0','PRCP'],axis=1)\n",
    "\n",
    "cf['OBS_TIME_LOC'] = pd.to_datetime(cf['OBS_TIME_LOC'])\n",
    "cf['OBS_TIME_LOC'] = pd.to_datetime(cf['OBS_TIME_LOC'].dt.strftime('%Y-%m-%d %H'))\n",
    "\n",
    "cf['HT_MEAN'] = cf.groupby([cf['LOC_NAME'].values,cf['OBS_TIME_LOC'].dt.date,cf['OBS_TIME_LOC'].dt.hour])['HT'].transform('max')\n",
    "cf = cf.drop(['VOID_FLAG','Unnamed: 0','HT'],axis=1 )\n",
    "\n",
    "cf, rf = cf.drop_duplicates(), rf.drop_duplicates()"
   ]
  },
  {
   "cell_type": "code",
   "execution_count": 68,
   "id": "0040900d",
   "metadata": {},
   "outputs": [],
   "source": [
    "## Creating a new dataframe that can be merged ##\n",
    "newList = copy.copy(cf[['HT_MEAN','OBS_TIME_LOC','LAT','LONG']])\n",
    "\n",
    "for j in range(0,len(CGEO)):\n",
    "        dst, smallDist, values = 9999,9999999999, []\n",
    "        \n",
    "        for i in range(0,len(RGEO)):\n",
    "            dst = distance.euclidean(CGEO[j],RGEO[i]) \n",
    "            \n",
    "            if dst < smallDist: \n",
    "                smallDist, values = dst, RGEO[i]\n",
    "            \n",
    "        newList['LAT'] = newList['LAT'].replace({CGEO[j][0]:values[0]})\n",
    "        newList['LONG'] = newList['LONG'].replace({CGEO[j][1]:values[1]})"
   ]
  },
  {
   "cell_type": "code",
   "execution_count": 91,
   "id": "cfdcaa98",
   "metadata": {},
   "outputs": [
    {
     "data": {
      "text/plain": [
       " 0.350     7830\n",
       " 0.360     7761\n",
       " 0.850     7539\n",
       " 2.710     7422\n",
       " 0.860     7291\n",
       "           ... \n",
       " 17.040       1\n",
       " 13.920       1\n",
       "-0.739        1\n",
       " 10.140       1\n",
       " 2.129        1\n",
       "Name: HT_MEAN, Length: 5031, dtype: int64"
      ]
     },
     "execution_count": 91,
     "metadata": {},
     "output_type": "execute_result"
    }
   ],
   "source": [
    "## Merging values ##\n",
    "newList, rf = newList.sort_values(by='OBS_TIME_LOC'), rf.sort_values(by='OBS_TIME_LOC')\n",
    "\n",
    "merged_rf_cf = pd.merge_asof(rf,newList, on = 'OBS_TIME_LOC',by=['LAT','LONG'])\n",
    "merged_rf_cf = merged_rf_cf.sort_values(by=['LAT','LONG','OBS_TIME_LOC'])\n",
    "merged_rf_cf= merged_rf_cf.bfill().ffill()\n",
    "newList.HT_MEAN.value_counts()"
   ]
  },
  {
   "cell_type": "code",
   "execution_count": 104,
   "id": "c8b23f60",
   "metadata": {},
   "outputs": [],
   "source": [
    "merged_rf_cf.to_csv('merged_rf_cf.csv')"
   ]
  },
  {
   "cell_type": "code",
   "execution_count": null,
   "id": "c119dc2d",
   "metadata": {},
   "outputs": [],
   "source": []
  }
 ],
 "metadata": {
  "kernelspec": {
   "display_name": "Python 3 (ipykernel)",
   "language": "python",
   "name": "python3"
  },
  "language_info": {
   "codemirror_mode": {
    "name": "ipython",
    "version": 3
   },
   "file_extension": ".py",
   "mimetype": "text/x-python",
   "name": "python",
   "nbconvert_exporter": "python",
   "pygments_lexer": "ipython3",
   "version": "3.7.13"
  }
 },
 "nbformat": 4,
 "nbformat_minor": 5
}
