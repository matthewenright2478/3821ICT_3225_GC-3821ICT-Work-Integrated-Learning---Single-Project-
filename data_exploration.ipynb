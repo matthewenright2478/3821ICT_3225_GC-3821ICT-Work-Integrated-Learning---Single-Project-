{
 "cells": [
  {
   "cell_type": "code",
   "execution_count": 92,
   "id": "739f6a37",
   "metadata": {},
   "outputs": [],
   "source": [
    "import pandas as pd\n",
    "import numpy as np\n",
    "import matplotlib.pyplot as plt\n",
    "from datetime import datetime"
   ]
  },
  {
   "cell_type": "code",
   "execution_count": 93,
   "id": "e8fd4552",
   "metadata": {},
   "outputs": [],
   "source": [
    "waterlevel = pd.read_csv('./Data/BrunswickRiver_WL/wl_558007_1.csv', usecols=['OBS_TIME_LOC', 'HT'])"
   ]
  },
  {
   "cell_type": "code",
   "execution_count": 97,
   "id": "7aa9a242",
   "metadata": {},
   "outputs": [],
   "source": [
    "waterlevel = waterlevel.resample('30T').mean()"
   ]
  },
  {
   "cell_type": "code",
   "execution_count": 94,
   "id": "8afa1baf",
   "metadata": {},
   "outputs": [],
   "source": [
    "waterlevel['OBS_TIME_LOC'] = pd.to_datetime(waterlevel['OBS_TIME_LOC'])"
   ]
  },
  {
   "cell_type": "code",
   "execution_count": 106,
   "id": "12bc7dce",
   "metadata": {},
   "outputs": [],
   "source": [
    "waterlevel.to_csv('Durrumbul_WL.csv')"
   ]
  },
  {
   "cell_type": "code",
   "execution_count": 95,
   "id": "ca64db5d",
   "metadata": {},
   "outputs": [],
   "source": [
    "waterlevel.set_index(\"OBS_TIME_LOC\", inplace=True)"
   ]
  },
  {
   "cell_type": "code",
   "execution_count": 96,
   "id": "1f10835b",
   "metadata": {},
   "outputs": [],
   "source": [
    "waterlevel[waterlevel < 0] = 0"
   ]
  },
  {
   "cell_type": "code",
   "execution_count": 105,
   "id": "d5cd280d",
   "metadata": {},
   "outputs": [
    {
     "data": {
      "text/plain": [
       "[<matplotlib.lines.Line2D at 0x7ffc4a47f400>]"
      ]
     },
     "execution_count": 105,
     "metadata": {},
     "output_type": "execute_result"
    },
    {
     "data": {
      "image/png": "[encoded data removed]",
      "text/plain": [
       "<Figure size 432x288 with 1 Axes>"
      ]
     },
     "metadata": {
      "needs_background": "light"
     },
     "output_type": "display_data"
    }
   ],
   "source": [
    "plt.plot(waterlevel)"
   ]
  },
  {
   "cell_type": "code",
   "execution_count": 103,
   "id": "1965c010",
   "metadata": {},
   "outputs": [],
   "source": [
    "waterlevel = waterlevel.dropna()"
   ]
  },
  {
   "cell_type": "code",
   "execution_count": 104,
   "id": "ca70f842",
   "metadata": {},
   "outputs": [
    {
     "data": {
      "text/html": [
       "<div>\n",
       "<style scoped>\n",
       "    .dataframe tbody tr th:only-of-type {\n",
       "        vertical-align: middle;\n",
       "    }\n",
       "\n",
       "    .dataframe tbody tr th {\n",
       "        vertical-align: top;\n",
       "    }\n",
       "\n",
       "    .dataframe thead th {\n",
       "        text-align: right;\n",
       "    }\n",
       "</style>\n",
       "<table border=\"1\" class=\"dataframe\">\n",
       "  <thead>\n",
       "    <tr style=\"text-align: right;\">\n",
       "      <th></th>\n",
       "      <th>HT</th>\n",
       "    </tr>\n",
       "    <tr>\n",
       "      <th>OBS_TIME_LOC</th>\n",
       "      <th></th>\n",
       "    </tr>\n",
       "  </thead>\n",
       "  <tbody>\n",
       "    <tr>\n",
       "      <th>2005-11-26 10:00:00</th>\n",
       "      <td>0.468571</td>\n",
       "    </tr>\n",
       "    <tr>\n",
       "      <th>2005-11-26 12:00:00</th>\n",
       "      <td>0.670000</td>\n",
       "    </tr>\n",
       "    <tr>\n",
       "      <th>2005-11-26 13:00:00</th>\n",
       "      <td>0.380000</td>\n",
       "    </tr>\n",
       "    <tr>\n",
       "      <th>2005-11-26 14:30:00</th>\n",
       "      <td>0.670000</td>\n",
       "    </tr>\n",
       "    <tr>\n",
       "      <th>2005-11-26 15:00:00</th>\n",
       "      <td>0.680000</td>\n",
       "    </tr>\n",
       "  </tbody>\n",
       "</table>\n",
       "</div>"
      ],
      "text/plain": [
       "                           HT\n",
       "OBS_TIME_LOC                 \n",
       "2005-11-26 10:00:00  0.468571\n",
       "2005-11-26 12:00:00  0.670000\n",
       "2005-11-26 13:00:00  0.380000\n",
       "2005-11-26 14:30:00  0.670000\n",
       "2005-11-26 15:00:00  0.680000"
      ]
     },
     "execution_count": 104,
     "metadata": {},
     "output_type": "execute_result"
    }
   ],
   "source": [
    "waterlevel.head()"
   ]
  },
  {
   "cell_type": "code",
   "execution_count": 210,
   "id": "0a71636e",
   "metadata": {},
   "outputs": [],
   "source": [
    "df = pd.read_csv('./Data/AccumsDataset.csv', usecols=['OBS_TIME_LOC', 'PRCP'])"
   ]
  },
  {
   "cell_type": "code",
   "execution_count": 211,
   "id": "a75ffd00",
   "metadata": {},
   "outputs": [
    {
     "data": {
      "text/html": [
       "<div>\n",
       "<style scoped>\n",
       "    .dataframe tbody tr th:only-of-type {\n",
       "        vertical-align: middle;\n",
       "    }\n",
       "\n",
       "    .dataframe tbody tr th {\n",
       "        vertical-align: top;\n",
       "    }\n",
       "\n",
       "    .dataframe thead th {\n",
       "        text-align: right;\n",
       "    }\n",
       "</style>\n",
       "<table border=\"1\" class=\"dataframe\">\n",
       "  <thead>\n",
       "    <tr style=\"text-align: right;\">\n",
       "      <th></th>\n",
       "      <th>OBS_TIME_LOC</th>\n",
       "      <th>PRCP</th>\n",
       "    </tr>\n",
       "  </thead>\n",
       "  <tbody>\n",
       "    <tr>\n",
       "      <th>0</th>\n",
       "      <td>2005-11-26 11:19:50</td>\n",
       "      <td>1411.0</td>\n",
       "    </tr>\n",
       "    <tr>\n",
       "      <th>1</th>\n",
       "      <td>2005-11-26 11:21:18</td>\n",
       "      <td>1411.0</td>\n",
       "    </tr>\n",
       "    <tr>\n",
       "      <th>2</th>\n",
       "      <td>2005-11-26 14:19:51</td>\n",
       "      <td>1411.0</td>\n",
       "    </tr>\n",
       "    <tr>\n",
       "      <th>3</th>\n",
       "      <td>2005-11-26 17:19:51</td>\n",
       "      <td>1411.0</td>\n",
       "    </tr>\n",
       "    <tr>\n",
       "      <th>4</th>\n",
       "      <td>2005-11-26 17:21:18</td>\n",
       "      <td>1411.0</td>\n",
       "    </tr>\n",
       "  </tbody>\n",
       "</table>\n",
       "</div>"
      ],
      "text/plain": [
       "          OBS_TIME_LOC    PRCP\n",
       "0  2005-11-26 11:19:50  1411.0\n",
       "1  2005-11-26 11:21:18  1411.0\n",
       "2  2005-11-26 14:19:51  1411.0\n",
       "3  2005-11-26 17:19:51  1411.0\n",
       "4  2005-11-26 17:21:18  1411.0"
      ]
     },
     "execution_count": 211,
     "metadata": {},
     "output_type": "execute_result"
    }
   ],
   "source": [
    "df.head()"
   ]
  },
  {
   "cell_type": "code",
   "execution_count": 212,
   "id": "0fda8c88",
   "metadata": {},
   "outputs": [],
   "source": [
    "df['OBS_TIME_LOC']=pd.to_datetime(df['OBS_TIME_LOC'])"
   ]
  },
  {
   "cell_type": "code",
   "execution_count": 213,
   "id": "69941595",
   "metadata": {},
   "outputs": [],
   "source": [
    "cf = pd.read_csv('./Data/eventDatasets.csv', usecols=['OBS_TIME_LOC', 'PRCP'])"
   ]
  },
  {
   "cell_type": "code",
   "execution_count": 214,
   "id": "f3f0dd89",
   "metadata": {},
   "outputs": [
    {
     "data": {
      "text/html": [
       "<div>\n",
       "<style scoped>\n",
       "    .dataframe tbody tr th:only-of-type {\n",
       "        vertical-align: middle;\n",
       "    }\n",
       "\n",
       "    .dataframe tbody tr th {\n",
       "        vertical-align: top;\n",
       "    }\n",
       "\n",
       "    .dataframe thead th {\n",
       "        text-align: right;\n",
       "    }\n",
       "</style>\n",
       "<table border=\"1\" class=\"dataframe\">\n",
       "  <thead>\n",
       "    <tr style=\"text-align: right;\">\n",
       "      <th></th>\n",
       "      <th>OBS_TIME_LOC</th>\n",
       "      <th>PRCP</th>\n",
       "    </tr>\n",
       "  </thead>\n",
       "  <tbody>\n",
       "    <tr>\n",
       "      <th>0</th>\n",
       "      <td>2007-11-07 10:00:00</td>\n",
       "      <td>0.2</td>\n",
       "    </tr>\n",
       "    <tr>\n",
       "      <th>1</th>\n",
       "      <td>2007-11-07 11:00:00</td>\n",
       "      <td>2.8</td>\n",
       "    </tr>\n",
       "    <tr>\n",
       "      <th>2</th>\n",
       "      <td>2007-11-07 12:00:00</td>\n",
       "      <td>3.8</td>\n",
       "    </tr>\n",
       "    <tr>\n",
       "      <th>3</th>\n",
       "      <td>2007-11-07 13:00:00</td>\n",
       "      <td>7.2</td>\n",
       "    </tr>\n",
       "    <tr>\n",
       "      <th>4</th>\n",
       "      <td>2007-11-07 14:00:00</td>\n",
       "      <td>9.6</td>\n",
       "    </tr>\n",
       "  </tbody>\n",
       "</table>\n",
       "</div>"
      ],
      "text/plain": [
       "          OBS_TIME_LOC  PRCP\n",
       "0  2007-11-07 10:00:00   0.2\n",
       "1  2007-11-07 11:00:00   2.8\n",
       "2  2007-11-07 12:00:00   3.8\n",
       "3  2007-11-07 13:00:00   7.2\n",
       "4  2007-11-07 14:00:00   9.6"
      ]
     },
     "execution_count": 214,
     "metadata": {},
     "output_type": "execute_result"
    }
   ],
   "source": [
    "cf.head()"
   ]
  },
  {
   "cell_type": "code",
   "execution_count": 215,
   "id": "4dafe23d",
   "metadata": {},
   "outputs": [],
   "source": [
    "cf['OBS_TIME_LOC']=pd.to_datetime(cf['OBS_TIME_LOC'])"
   ]
  },
  {
   "cell_type": "code",
   "execution_count": 216,
   "id": "2e9549ef",
   "metadata": {},
   "outputs": [],
   "source": [
    "wf = pd.read_csv('./Data/riverHeightDatasets.csv', usecols=['OBS_TIME_LOC', 'HT'])"
   ]
  },
  {
   "cell_type": "code",
   "execution_count": 217,
   "id": "043d59a9",
   "metadata": {},
   "outputs": [
    {
     "data": {
      "text/html": [
       "<div>\n",
       "<style scoped>\n",
       "    .dataframe tbody tr th:only-of-type {\n",
       "        vertical-align: middle;\n",
       "    }\n",
       "\n",
       "    .dataframe tbody tr th {\n",
       "        vertical-align: top;\n",
       "    }\n",
       "\n",
       "    .dataframe thead th {\n",
       "        text-align: right;\n",
       "    }\n",
       "</style>\n",
       "<table border=\"1\" class=\"dataframe\">\n",
       "  <thead>\n",
       "    <tr style=\"text-align: right;\">\n",
       "      <th></th>\n",
       "      <th>OBS_TIME_LOC</th>\n",
       "      <th>HT</th>\n",
       "    </tr>\n",
       "  </thead>\n",
       "  <tbody>\n",
       "    <tr>\n",
       "      <th>0</th>\n",
       "      <td>2005-11-26 09:51:35</td>\n",
       "      <td>1.52</td>\n",
       "    </tr>\n",
       "    <tr>\n",
       "      <th>1</th>\n",
       "      <td>2005-11-26 09:52:07</td>\n",
       "      <td>1.53</td>\n",
       "    </tr>\n",
       "    <tr>\n",
       "      <th>2</th>\n",
       "      <td>2005-11-26 09:53:07</td>\n",
       "      <td>1.52</td>\n",
       "    </tr>\n",
       "    <tr>\n",
       "      <th>3</th>\n",
       "      <td>2005-11-26 09:54:07</td>\n",
       "      <td>1.53</td>\n",
       "    </tr>\n",
       "    <tr>\n",
       "      <th>4</th>\n",
       "      <td>2005-11-26 10:09:35</td>\n",
       "      <td>1.54</td>\n",
       "    </tr>\n",
       "  </tbody>\n",
       "</table>\n",
       "</div>"
      ],
      "text/plain": [
       "          OBS_TIME_LOC    HT\n",
       "0  2005-11-26 09:51:35  1.52\n",
       "1  2005-11-26 09:52:07  1.53\n",
       "2  2005-11-26 09:53:07  1.52\n",
       "3  2005-11-26 09:54:07  1.53\n",
       "4  2005-11-26 10:09:35  1.54"
      ]
     },
     "execution_count": 217,
     "metadata": {},
     "output_type": "execute_result"
    }
   ],
   "source": [
    "wf.head()"
   ]
  },
  {
   "cell_type": "code",
   "execution_count": 218,
   "id": "66f02181",
   "metadata": {},
   "outputs": [],
   "source": [
    "wf['OBS_TIME_LOC'] = pd.to_datetime(wf['OBS_TIME_LOC'])"
   ]
  },
  {
   "cell_type": "code",
   "execution_count": 219,
   "id": "f81b1b6c",
   "metadata": {},
   "outputs": [],
   "source": [
    "df = df.groupby('OBS_TIME_LOC').PRCP.mean()"
   ]
  },
  {
   "cell_type": "code",
   "execution_count": 220,
   "id": "248760e6",
   "metadata": {},
   "outputs": [
    {
     "data": {
      "text/plain": [
       "OBS_TIME_LOC\n",
       "2005-11-26 10:00:00    10349.0\n",
       "2005-11-26 10:04:24      125.0\n",
       "2005-11-26 10:06:33       95.0\n",
       "2005-11-26 10:16:19       26.0\n",
       "2005-11-26 10:32:41     1598.0\n",
       "Name: PRCP, dtype: float64"
      ]
     },
     "execution_count": 220,
     "metadata": {},
     "output_type": "execute_result"
    }
   ],
   "source": [
    "df.head()"
   ]
  },
  {
   "cell_type": "code",
   "execution_count": 221,
   "id": "9de1a390",
   "metadata": {},
   "outputs": [],
   "source": [
    "cf = cf.groupby('OBS_TIME_LOC').PRCP.mean()"
   ]
  },
  {
   "cell_type": "code",
   "execution_count": 222,
   "id": "a94bdaa5",
   "metadata": {},
   "outputs": [
    {
     "data": {
      "text/plain": [
       "OBS_TIME_LOC\n",
       "2007-11-07 10:00:00    0.2\n",
       "2007-11-07 11:00:00    2.8\n",
       "2007-11-07 12:00:00    3.8\n",
       "2007-11-07 13:00:00    7.2\n",
       "2007-11-07 14:00:00    9.6\n",
       "Name: PRCP, dtype: float64"
      ]
     },
     "execution_count": 222,
     "metadata": {},
     "output_type": "execute_result"
    }
   ],
   "source": [
    "cf.head()"
   ]
  },
  {
   "cell_type": "code",
   "execution_count": 223,
   "id": "1081697d",
   "metadata": {},
   "outputs": [],
   "source": [
    "wf = wf.groupby('OBS_TIME_LOC').HT.mean()"
   ]
  },
  {
   "cell_type": "code",
   "execution_count": 224,
   "id": "085152b8",
   "metadata": {},
   "outputs": [
    {
     "data": {
      "text/plain": [
       "OBS_TIME_LOC\n",
       "2005-11-26 09:51:35    1.52\n",
       "2005-11-26 09:52:07    1.53\n",
       "2005-11-26 09:52:41    0.32\n",
       "2005-11-26 09:53:07    1.52\n",
       "2005-11-26 09:54:07    1.53\n",
       "Name: HT, dtype: float64"
      ]
     },
     "execution_count": 224,
     "metadata": {},
     "output_type": "execute_result"
    }
   ],
   "source": [
    "wf.head()"
   ]
  },
  {
   "cell_type": "code",
   "execution_count": 225,
   "id": "8b930702",
   "metadata": {},
   "outputs": [],
   "source": [
    "df = pd.DataFrame(df)\n",
    "cf = pd.DataFrame(cf)\n",
    "wf = pd.DataFrame(wf)"
   ]
  },
  {
   "cell_type": "code",
   "execution_count": 238,
   "id": "61810959",
   "metadata": {},
   "outputs": [
    {
     "data": {
      "text/html": [
       "<div>\n",
       "<style scoped>\n",
       "    .dataframe tbody tr th:only-of-type {\n",
       "        vertical-align: middle;\n",
       "    }\n",
       "\n",
       "    .dataframe tbody tr th {\n",
       "        vertical-align: top;\n",
       "    }\n",
       "\n",
       "    .dataframe thead th {\n",
       "        text-align: right;\n",
       "    }\n",
       "</style>\n",
       "<table border=\"1\" class=\"dataframe\">\n",
       "  <thead>\n",
       "    <tr style=\"text-align: right;\">\n",
       "      <th></th>\n",
       "      <th>HT</th>\n",
       "    </tr>\n",
       "    <tr>\n",
       "      <th>OBS_TIME_LOC</th>\n",
       "      <th></th>\n",
       "    </tr>\n",
       "  </thead>\n",
       "  <tbody>\n",
       "    <tr>\n",
       "      <th>2005-11-26 09:51:35</th>\n",
       "      <td>1.52</td>\n",
       "    </tr>\n",
       "    <tr>\n",
       "      <th>2005-11-26 09:52:07</th>\n",
       "      <td>1.53</td>\n",
       "    </tr>\n",
       "    <tr>\n",
       "      <th>2005-11-26 09:52:41</th>\n",
       "      <td>0.32</td>\n",
       "    </tr>\n",
       "    <tr>\n",
       "      <th>2005-11-26 09:53:07</th>\n",
       "      <td>1.52</td>\n",
       "    </tr>\n",
       "    <tr>\n",
       "      <th>2005-11-26 09:54:07</th>\n",
       "      <td>1.53</td>\n",
       "    </tr>\n",
       "  </tbody>\n",
       "</table>\n",
       "</div>"
      ],
      "text/plain": [
       "                       HT\n",
       "OBS_TIME_LOC             \n",
       "2005-11-26 09:51:35  1.52\n",
       "2005-11-26 09:52:07  1.53\n",
       "2005-11-26 09:52:41  0.32\n",
       "2005-11-26 09:53:07  1.52\n",
       "2005-11-26 09:54:07  1.53"
      ]
     },
     "execution_count": 238,
     "metadata": {},
     "output_type": "execute_result"
    }
   ],
   "source": [
    "wf.head()"
   ]
  },
  {
   "cell_type": "code",
   "execution_count": 245,
   "id": "d71d9fab",
   "metadata": {},
   "outputs": [],
   "source": [
    "df_cf = pd.merge(df, cf, how='outer', on='OBS_TIME_LOC')"
   ]
  },
  {
   "cell_type": "code",
   "execution_count": 246,
   "id": "a632493a",
   "metadata": {},
   "outputs": [
    {
     "data": {
      "text/html": [
       "<div>\n",
       "<style scoped>\n",
       "    .dataframe tbody tr th:only-of-type {\n",
       "        vertical-align: middle;\n",
       "    }\n",
       "\n",
       "    .dataframe tbody tr th {\n",
       "        vertical-align: top;\n",
       "    }\n",
       "\n",
       "    .dataframe thead th {\n",
       "        text-align: right;\n",
       "    }\n",
       "</style>\n",
       "<table border=\"1\" class=\"dataframe\">\n",
       "  <thead>\n",
       "    <tr style=\"text-align: right;\">\n",
       "      <th></th>\n",
       "      <th>PRCP_x</th>\n",
       "      <th>PRCP_y</th>\n",
       "    </tr>\n",
       "    <tr>\n",
       "      <th>OBS_TIME_LOC</th>\n",
       "      <th></th>\n",
       "      <th></th>\n",
       "    </tr>\n",
       "  </thead>\n",
       "  <tbody>\n",
       "    <tr>\n",
       "      <th>2005-11-26 10:00:00</th>\n",
       "      <td>10349.0</td>\n",
       "      <td>NaN</td>\n",
       "    </tr>\n",
       "    <tr>\n",
       "      <th>2005-11-26 10:04:24</th>\n",
       "      <td>125.0</td>\n",
       "      <td>NaN</td>\n",
       "    </tr>\n",
       "    <tr>\n",
       "      <th>2005-11-26 10:06:33</th>\n",
       "      <td>95.0</td>\n",
       "      <td>NaN</td>\n",
       "    </tr>\n",
       "    <tr>\n",
       "      <th>2005-11-26 10:16:19</th>\n",
       "      <td>26.0</td>\n",
       "      <td>NaN</td>\n",
       "    </tr>\n",
       "    <tr>\n",
       "      <th>2005-11-26 10:32:41</th>\n",
       "      <td>1598.0</td>\n",
       "      <td>NaN</td>\n",
       "    </tr>\n",
       "  </tbody>\n",
       "</table>\n",
       "</div>"
      ],
      "text/plain": [
       "                      PRCP_x  PRCP_y\n",
       "OBS_TIME_LOC                        \n",
       "2005-11-26 10:00:00  10349.0     NaN\n",
       "2005-11-26 10:04:24    125.0     NaN\n",
       "2005-11-26 10:06:33     95.0     NaN\n",
       "2005-11-26 10:16:19     26.0     NaN\n",
       "2005-11-26 10:32:41   1598.0     NaN"
      ]
     },
     "execution_count": 246,
     "metadata": {},
     "output_type": "execute_result"
    }
   ],
   "source": [
    "df_cf.head()"
   ]
  },
  {
   "cell_type": "code",
   "execution_count": 247,
   "id": "eef966b5",
   "metadata": {},
   "outputs": [],
   "source": [
    "df_cf_wf = pd.merge(df_cf, wf, how='outer', on='OBS_TIME_LOC')"
   ]
  },
  {
   "cell_type": "code",
   "execution_count": 265,
   "id": "8e7da9c5",
   "metadata": {},
   "outputs": [
    {
     "data": {
      "text/html": [
       "<div>\n",
       "<style scoped>\n",
       "    .dataframe tbody tr th:only-of-type {\n",
       "        vertical-align: middle;\n",
       "    }\n",
       "\n",
       "    .dataframe tbody tr th {\n",
       "        vertical-align: top;\n",
       "    }\n",
       "\n",
       "    .dataframe thead th {\n",
       "        text-align: right;\n",
       "    }\n",
       "</style>\n",
       "<table border=\"1\" class=\"dataframe\">\n",
       "  <thead>\n",
       "    <tr style=\"text-align: right;\">\n",
       "      <th></th>\n",
       "      <th>PRCP_ACCUM</th>\n",
       "      <th>PRCP_RAIN</th>\n",
       "      <th>HT</th>\n",
       "    </tr>\n",
       "    <tr>\n",
       "      <th>OBS_TIME_LOC</th>\n",
       "      <th></th>\n",
       "      <th></th>\n",
       "      <th></th>\n",
       "    </tr>\n",
       "  </thead>\n",
       "  <tbody>\n",
       "    <tr>\n",
       "      <th>2022-07-31 23:48:22</th>\n",
       "      <td>385.0</td>\n",
       "      <td>0.133333</td>\n",
       "      <td>0.37</td>\n",
       "    </tr>\n",
       "    <tr>\n",
       "      <th>2022-07-31 23:48:33</th>\n",
       "      <td>385.0</td>\n",
       "      <td>0.133333</td>\n",
       "      <td>0.60</td>\n",
       "    </tr>\n",
       "    <tr>\n",
       "      <th>2022-07-31 23:52:33</th>\n",
       "      <td>385.0</td>\n",
       "      <td>0.133333</td>\n",
       "      <td>0.61</td>\n",
       "    </tr>\n",
       "    <tr>\n",
       "      <th>2022-07-31 23:55:27</th>\n",
       "      <td>385.0</td>\n",
       "      <td>0.133333</td>\n",
       "      <td>0.38</td>\n",
       "    </tr>\n",
       "    <tr>\n",
       "      <th>2022-07-31 23:56:33</th>\n",
       "      <td>385.0</td>\n",
       "      <td>0.133333</td>\n",
       "      <td>0.62</td>\n",
       "    </tr>\n",
       "  </tbody>\n",
       "</table>\n",
       "</div>"
      ],
      "text/plain": [
       "                     PRCP_ACCUM  PRCP_RAIN    HT\n",
       "OBS_TIME_LOC                                    \n",
       "2022-07-31 23:48:22       385.0   0.133333  0.37\n",
       "2022-07-31 23:48:33       385.0   0.133333  0.60\n",
       "2022-07-31 23:52:33       385.0   0.133333  0.61\n",
       "2022-07-31 23:55:27       385.0   0.133333  0.38\n",
       "2022-07-31 23:56:33       385.0   0.133333  0.62"
      ]
     },
     "execution_count": 265,
     "metadata": {},
     "output_type": "execute_result"
    }
   ],
   "source": [
    "df_cf_wf.tail()"
   ]
  },
  {
   "cell_type": "code",
   "execution_count": 264,
   "id": "fad05bfc",
   "metadata": {},
   "outputs": [
    {
     "data": {
      "text/html": [
       "<div>\n",
       "<style scoped>\n",
       "    .dataframe tbody tr th:only-of-type {\n",
       "        vertical-align: middle;\n",
       "    }\n",
       "\n",
       "    .dataframe tbody tr th {\n",
       "        vertical-align: top;\n",
       "    }\n",
       "\n",
       "    .dataframe thead th {\n",
       "        text-align: right;\n",
       "    }\n",
       "</style>\n",
       "<table border=\"1\" class=\"dataframe\">\n",
       "  <thead>\n",
       "    <tr style=\"text-align: right;\">\n",
       "      <th></th>\n",
       "      <th>PRCP_ACCUM</th>\n",
       "      <th>PRCP_RAIN</th>\n",
       "      <th>HT</th>\n",
       "    </tr>\n",
       "  </thead>\n",
       "  <tbody>\n",
       "    <tr>\n",
       "      <th>count</th>\n",
       "      <td>4.670168e+06</td>\n",
       "      <td>4.670168e+06</td>\n",
       "      <td>4.670168e+06</td>\n",
       "    </tr>\n",
       "    <tr>\n",
       "      <th>mean</th>\n",
       "      <td>9.703048e+02</td>\n",
       "      <td>9.775200e-01</td>\n",
       "      <td>8.564567e-01</td>\n",
       "    </tr>\n",
       "    <tr>\n",
       "      <th>std</th>\n",
       "      <td>4.988747e+03</td>\n",
       "      <td>5.356437e+00</td>\n",
       "      <td>2.025699e+00</td>\n",
       "    </tr>\n",
       "    <tr>\n",
       "      <th>min</th>\n",
       "      <td>0.000000e+00</td>\n",
       "      <td>0.000000e+00</td>\n",
       "      <td>-1.570000e+01</td>\n",
       "    </tr>\n",
       "    <tr>\n",
       "      <th>25%</th>\n",
       "      <td>3.850000e+02</td>\n",
       "      <td>1.333333e-01</td>\n",
       "      <td>3.500000e-01</td>\n",
       "    </tr>\n",
       "    <tr>\n",
       "      <th>50%</th>\n",
       "      <td>3.850000e+02</td>\n",
       "      <td>1.333333e-01</td>\n",
       "      <td>6.155000e-01</td>\n",
       "    </tr>\n",
       "    <tr>\n",
       "      <th>75%</th>\n",
       "      <td>3.850000e+02</td>\n",
       "      <td>2.721129e-01</td>\n",
       "      <td>9.200000e-01</td>\n",
       "    </tr>\n",
       "    <tr>\n",
       "      <th>max</th>\n",
       "      <td>8.836600e+04</td>\n",
       "      <td>2.754000e+02</td>\n",
       "      <td>3.424650e+02</td>\n",
       "    </tr>\n",
       "  </tbody>\n",
       "</table>\n",
       "</div>"
      ],
      "text/plain": [
       "         PRCP_ACCUM     PRCP_RAIN            HT\n",
       "count  4.670168e+06  4.670168e+06  4.670168e+06\n",
       "mean   9.703048e+02  9.775200e-01  8.564567e-01\n",
       "std    4.988747e+03  5.356437e+00  2.025699e+00\n",
       "min    0.000000e+00  0.000000e+00 -1.570000e+01\n",
       "25%    3.850000e+02  1.333333e-01  3.500000e-01\n",
       "50%    3.850000e+02  1.333333e-01  6.155000e-01\n",
       "75%    3.850000e+02  2.721129e-01  9.200000e-01\n",
       "max    8.836600e+04  2.754000e+02  3.424650e+02"
      ]
     },
     "execution_count": 264,
     "metadata": {},
     "output_type": "execute_result"
    }
   ],
   "source": [
    "df_cf_wf.describe()"
   ]
  },
  {
   "cell_type": "code",
   "execution_count": 251,
   "id": "0ab13688",
   "metadata": {},
   "outputs": [],
   "source": [
    "df_cf_wf.columns=['PRCP_ACCUM','PRCP_RAIN', 'HT']"
   ]
  },
  {
   "cell_type": "code",
   "execution_count": 261,
   "id": "dee5566e",
   "metadata": {},
   "outputs": [],
   "source": [
    "df_cf_wf = df_cf_wf.dropna()"
   ]
  },
  {
   "cell_type": "code",
   "execution_count": 266,
   "id": "a2a0ceaa",
   "metadata": {},
   "outputs": [],
   "source": [
    "df_cf_wf.to_csv('Accum_Rain_HT.csv')"
   ]
  },
  {
   "cell_type": "code",
   "execution_count": null,
   "id": "c055ee5c",
   "metadata": {},
   "outputs": [],
   "source": []
  }
 ],
 "metadata": {
  "kernelspec": {
   "display_name": "Python 3 (ipykernel)",
   "language": "python",
   "name": "python3"
  },
  "language_info": {
   "codemirror_mode": {
    "name": "ipython",
    "version": 3
   },
   "file_extension": ".py",
   "mimetype": "text/x-python",
   "name": "python",
   "nbconvert_exporter": "python",
   "pygments_lexer": "ipython3",
   "version": "3.9.12"
  }
 },
 "nbformat": 4,
 "nbformat_minor": 5
}
