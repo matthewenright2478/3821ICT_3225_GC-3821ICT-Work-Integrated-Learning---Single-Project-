{
 "cells": [
  {
   "cell_type": "code",
   "execution_count": 148,
   "id": "c31014b8",
   "metadata": {},
   "outputs": [],
   "source": [
    "import pandas as pd\n",
    "import numpy as np\n",
    "import matplotlib.pyplot as plt"
   ]
  },
  {
   "cell_type": "code",
   "execution_count": 149,
   "id": "4322733c",
   "metadata": {},
   "outputs": [],
   "source": [
    "df = pd.read_csv('./Data/AccumsDataset.csv')"
   ]
  },
  {
   "cell_type": "code",
   "execution_count": 41,
   "id": "045e3629",
   "metadata": {},
   "outputs": [],
   "source": [
    "df = df.drop(['Unnamed: 0'], axis=1)"
   ]
  },
  {
   "cell_type": "code",
   "execution_count": 47,
   "id": "9eb14b31",
   "metadata": {},
   "outputs": [],
   "source": [
    "df.set_index(['OBS_TIME_LOC'],inplace=True)"
   ]
  },
  {
   "cell_type": "code",
   "execution_count": 43,
   "id": "5f873db0",
   "metadata": {},
   "outputs": [],
   "source": [
    "df = df.drop(['VOID_FLAG'], axis=1)"
   ]
  },
  {
   "cell_type": "code",
   "execution_count": 30,
   "id": "152a6374",
   "metadata": {},
   "outputs": [],
   "source": [
    "cf = pd.read_csv('./Data/eventDatasets.csv')"
   ]
  },
  {
   "cell_type": "code",
   "execution_count": 40,
   "id": "3e069a3b",
   "metadata": {},
   "outputs": [
    {
     "data": {
      "text/html": [
       "<div>\n",
       "<style scoped>\n",
       "    .dataframe tbody tr th:only-of-type {\n",
       "        vertical-align: middle;\n",
       "    }\n",
       "\n",
       "    .dataframe tbody tr th {\n",
       "        vertical-align: top;\n",
       "    }\n",
       "\n",
       "    .dataframe thead th {\n",
       "        text-align: right;\n",
       "    }\n",
       "</style>\n",
       "<table border=\"1\" class=\"dataframe\">\n",
       "  <thead>\n",
       "    <tr style=\"text-align: right;\">\n",
       "      <th></th>\n",
       "      <th>OBS_TIME_LOC</th>\n",
       "      <th>PRCP</th>\n",
       "      <th>LOC</th>\n",
       "      <th>LOC_NAME</th>\n",
       "      <th>LAT</th>\n",
       "      <th>LONG</th>\n",
       "    </tr>\n",
       "  </thead>\n",
       "  <tbody>\n",
       "    <tr>\n",
       "      <th>0</th>\n",
       "      <td>2007-11-07 10:00:00</td>\n",
       "      <td>0.2</td>\n",
       "      <td>58216</td>\n",
       "      <td>Cape Byron Aws</td>\n",
       "      <td>-28.6399</td>\n",
       "      <td>153.6358</td>\n",
       "    </tr>\n",
       "    <tr>\n",
       "      <th>1</th>\n",
       "      <td>2007-11-07 11:00:00</td>\n",
       "      <td>2.8</td>\n",
       "      <td>58216</td>\n",
       "      <td>Cape Byron Aws</td>\n",
       "      <td>-28.6399</td>\n",
       "      <td>153.6358</td>\n",
       "    </tr>\n",
       "    <tr>\n",
       "      <th>2</th>\n",
       "      <td>2007-11-07 12:00:00</td>\n",
       "      <td>3.8</td>\n",
       "      <td>58216</td>\n",
       "      <td>Cape Byron Aws</td>\n",
       "      <td>-28.6399</td>\n",
       "      <td>153.6358</td>\n",
       "    </tr>\n",
       "    <tr>\n",
       "      <th>3</th>\n",
       "      <td>2007-11-07 13:00:00</td>\n",
       "      <td>7.2</td>\n",
       "      <td>58216</td>\n",
       "      <td>Cape Byron Aws</td>\n",
       "      <td>-28.6399</td>\n",
       "      <td>153.6358</td>\n",
       "    </tr>\n",
       "    <tr>\n",
       "      <th>4</th>\n",
       "      <td>2007-11-07 14:00:00</td>\n",
       "      <td>9.6</td>\n",
       "      <td>58216</td>\n",
       "      <td>Cape Byron Aws</td>\n",
       "      <td>-28.6399</td>\n",
       "      <td>153.6358</td>\n",
       "    </tr>\n",
       "  </tbody>\n",
       "</table>\n",
       "</div>"
      ],
      "text/plain": [
       "          OBS_TIME_LOC  PRCP    LOC        LOC_NAME      LAT      LONG\n",
       "0  2007-11-07 10:00:00   0.2  58216  Cape Byron Aws -28.6399  153.6358\n",
       "1  2007-11-07 11:00:00   2.8  58216  Cape Byron Aws -28.6399  153.6358\n",
       "2  2007-11-07 12:00:00   3.8  58216  Cape Byron Aws -28.6399  153.6358\n",
       "3  2007-11-07 13:00:00   7.2  58216  Cape Byron Aws -28.6399  153.6358\n",
       "4  2007-11-07 14:00:00   9.6  58216  Cape Byron Aws -28.6399  153.6358"
      ]
     },
     "execution_count": 40,
     "metadata": {},
     "output_type": "execute_result"
    }
   ],
   "source": [
    "cf.head()"
   ]
  },
  {
   "cell_type": "code",
   "execution_count": 39,
   "id": "abb32959",
   "metadata": {},
   "outputs": [],
   "source": [
    "cf = cf.drop(['VOID_FLAG'], axis=1)"
   ]
  },
  {
   "cell_type": "code",
   "execution_count": 38,
   "id": "7b61318f",
   "metadata": {},
   "outputs": [],
   "source": [
    "cf = cf.drop(['Unnamed: 0'], axis=1)"
   ]
  },
  {
   "cell_type": "code",
   "execution_count": 66,
   "id": "dc225f44",
   "metadata": {},
   "outputs": [],
   "source": [
    "wf = pd.read_csv('./Data/riverHeightDatasets.csv')"
   ]
  },
  {
   "cell_type": "code",
   "execution_count": 159,
   "id": "348fe9a8",
   "metadata": {},
   "outputs": [
    {
     "data": {
      "text/html": [
       "<div>\n",
       "<style scoped>\n",
       "    .dataframe tbody tr th:only-of-type {\n",
       "        vertical-align: middle;\n",
       "    }\n",
       "\n",
       "    .dataframe tbody tr th {\n",
       "        vertical-align: top;\n",
       "    }\n",
       "\n",
       "    .dataframe thead th {\n",
       "        text-align: right;\n",
       "    }\n",
       "</style>\n",
       "<table border=\"1\" class=\"dataframe\">\n",
       "  <thead>\n",
       "    <tr style=\"text-align: right;\">\n",
       "      <th></th>\n",
       "      <th>HT</th>\n",
       "    </tr>\n",
       "  </thead>\n",
       "  <tbody>\n",
       "    <tr>\n",
       "      <th>2005-11-26 00:00:00</th>\n",
       "      <td>1.52</td>\n",
       "    </tr>\n",
       "    <tr>\n",
       "      <th>2005-11-26 00:15:00</th>\n",
       "      <td>1.53</td>\n",
       "    </tr>\n",
       "    <tr>\n",
       "      <th>2005-11-26 00:30:00</th>\n",
       "      <td>1.52</td>\n",
       "    </tr>\n",
       "    <tr>\n",
       "      <th>2005-11-26 00:45:00</th>\n",
       "      <td>1.53</td>\n",
       "    </tr>\n",
       "    <tr>\n",
       "      <th>2005-11-26 01:00:00</th>\n",
       "      <td>1.54</td>\n",
       "    </tr>\n",
       "  </tbody>\n",
       "</table>\n",
       "</div>"
      ],
      "text/plain": [
       "                       HT\n",
       "2005-11-26 00:00:00  1.52\n",
       "2005-11-26 00:15:00  1.53\n",
       "2005-11-26 00:30:00  1.52\n",
       "2005-11-26 00:45:00  1.53\n",
       "2005-11-26 01:00:00  1.54"
      ]
     },
     "execution_count": 159,
     "metadata": {},
     "output_type": "execute_result"
    }
   ],
   "source": [
    "wf.head()"
   ]
  },
  {
   "cell_type": "code",
   "execution_count": 68,
   "id": "7831dd49",
   "metadata": {},
   "outputs": [],
   "source": [
    "wf = wf.drop(['LOC', 'LOC_NAME', 'LAT', 'LONG', 'VOID_FLAG', 'Unnamed: 0'], axis=1)"
   ]
  },
  {
   "cell_type": "code",
   "execution_count": 158,
   "id": "10bbfaa0",
   "metadata": {},
   "outputs": [
    {
     "name": "stderr",
     "output_type": "stream",
     "text": [
      "/opt/anaconda3/lib/python3.9/site-packages/IPython/core/interactiveshell.py:3369: UserWarning: Parsing '26/11/2005' in DD/MM/YYYY format. Provide format or specify infer_datetime_format=True for consistent parsing.\n",
      "  exec(code_obj, self.user_global_ns, self.user_ns)\n"
     ]
    }
   ],
   "source": [
    "wf.index = pd.date_range('26/11/2005', periods=len(wf), freq='0.25H')"
   ]
  },
  {
   "cell_type": "code",
   "execution_count": 70,
   "id": "db6044c0",
   "metadata": {},
   "outputs": [],
   "source": [
    "wf['OBS_TIME_LOC'] = pd.to_datetime(wf['OBS_TIME_LOC'])"
   ]
  },
  {
   "cell_type": "code",
   "execution_count": 71,
   "id": "de5be357",
   "metadata": {},
   "outputs": [
    {
     "data": {
      "text/plain": [
       "OBS_TIME_LOC    datetime64[ns]\n",
       "HT                     float64\n",
       "dtype: object"
      ]
     },
     "execution_count": 71,
     "metadata": {},
     "output_type": "execute_result"
    }
   ],
   "source": [
    "wf.dtypes"
   ]
  },
  {
   "cell_type": "code",
   "execution_count": 73,
   "id": "832e1010",
   "metadata": {},
   "outputs": [],
   "source": [
    "wf.set_index(['OBS_TIME_LOC'],inplace=True)"
   ]
  },
  {
   "cell_type": "code",
   "execution_count": 156,
   "id": "4d34dd15",
   "metadata": {},
   "outputs": [
    {
     "data": {
      "text/html": [
       "<div>\n",
       "<style scoped>\n",
       "    .dataframe tbody tr th:only-of-type {\n",
       "        vertical-align: middle;\n",
       "    }\n",
       "\n",
       "    .dataframe tbody tr th {\n",
       "        vertical-align: top;\n",
       "    }\n",
       "\n",
       "    .dataframe thead th {\n",
       "        text-align: right;\n",
       "    }\n",
       "</style>\n",
       "<table border=\"1\" class=\"dataframe\">\n",
       "  <thead>\n",
       "    <tr style=\"text-align: right;\">\n",
       "      <th></th>\n",
       "      <th>PRCP</th>\n",
       "      <th>LAT</th>\n",
       "      <th>LONG</th>\n",
       "    </tr>\n",
       "  </thead>\n",
       "  <tbody>\n",
       "    <tr>\n",
       "      <th>2056-09-01 02:30:00</th>\n",
       "      <td>1105.0</td>\n",
       "      <td>-28.5314</td>\n",
       "      <td>153.3151</td>\n",
       "    </tr>\n",
       "    <tr>\n",
       "      <th>2056-09-01 02:45:00</th>\n",
       "      <td>1105.0</td>\n",
       "      <td>-28.5314</td>\n",
       "      <td>153.3151</td>\n",
       "    </tr>\n",
       "    <tr>\n",
       "      <th>2056-09-01 03:00:00</th>\n",
       "      <td>1611.0</td>\n",
       "      <td>-28.5314</td>\n",
       "      <td>153.3151</td>\n",
       "    </tr>\n",
       "    <tr>\n",
       "      <th>2056-09-01 03:15:00</th>\n",
       "      <td>1105.0</td>\n",
       "      <td>-28.5314</td>\n",
       "      <td>153.3151</td>\n",
       "    </tr>\n",
       "    <tr>\n",
       "      <th>2056-09-01 03:30:00</th>\n",
       "      <td>1105.0</td>\n",
       "      <td>-28.5314</td>\n",
       "      <td>153.3151</td>\n",
       "    </tr>\n",
       "  </tbody>\n",
       "</table>\n",
       "</div>"
      ],
      "text/plain": [
       "                       PRCP      LAT      LONG\n",
       "2056-09-01 02:30:00  1105.0 -28.5314  153.3151\n",
       "2056-09-01 02:45:00  1105.0 -28.5314  153.3151\n",
       "2056-09-01 03:00:00  1611.0 -28.5314  153.3151\n",
       "2056-09-01 03:15:00  1105.0 -28.5314  153.3151\n",
       "2056-09-01 03:30:00  1105.0 -28.5314  153.3151"
      ]
     },
     "execution_count": 156,
     "metadata": {},
     "output_type": "execute_result"
    }
   ],
   "source": [
    "df.tail()"
   ]
  },
  {
   "cell_type": "code",
   "execution_count": 154,
   "id": "a1b0f97e",
   "metadata": {},
   "outputs": [
    {
     "name": "stderr",
     "output_type": "stream",
     "text": [
      "/opt/anaconda3/lib/python3.9/site-packages/IPython/core/interactiveshell.py:3369: UserWarning: Parsing '26/11/2005' in DD/MM/YYYY format. Provide format or specify infer_datetime_format=True for consistent parsing.\n",
      "  exec(code_obj, self.user_global_ns, self.user_ns)\n"
     ]
    }
   ],
   "source": [
    "df.index = pd.date_range('26/11/2005', periods=len(df), freq='0.25H')"
   ]
  },
  {
   "cell_type": "code",
   "execution_count": 150,
   "id": "a2794b40",
   "metadata": {},
   "outputs": [],
   "source": [
    "df['date_time']=pd.to_datetime( df['OBS_TIME_LOC'])\n",
    "df.set_index(['OBS_TIME_LOC'],inplace=True)"
   ]
  },
  {
   "cell_type": "code",
   "execution_count": 151,
   "id": "30cf31ed",
   "metadata": {},
   "outputs": [],
   "source": [
    "df = df.drop(['LOC', 'LOC_NAME', 'VOID_FLAG', 'Unnamed: 0'], axis=1)"
   ]
  },
  {
   "cell_type": "code",
   "execution_count": 152,
   "id": "b56f8e77",
   "metadata": {},
   "outputs": [],
   "source": [
    "df = df.drop(['date_time'], axis=1)"
   ]
  },
  {
   "cell_type": "code",
   "execution_count": 161,
   "id": "8c2905fd",
   "metadata": {},
   "outputs": [],
   "source": [
    "df =df.join(wf, how='right')"
   ]
  },
  {
   "cell_type": "code",
   "execution_count": 163,
   "id": "282fc9fe",
   "metadata": {},
   "outputs": [],
   "source": [
    "df = df.dropna()"
   ]
  },
  {
   "cell_type": "code",
   "execution_count": 164,
   "id": "2e402a5c",
   "metadata": {},
   "outputs": [
    {
     "data": {
      "text/html": [
       "<div>\n",
       "<style scoped>\n",
       "    .dataframe tbody tr th:only-of-type {\n",
       "        vertical-align: middle;\n",
       "    }\n",
       "\n",
       "    .dataframe tbody tr th {\n",
       "        vertical-align: top;\n",
       "    }\n",
       "\n",
       "    .dataframe thead th {\n",
       "        text-align: right;\n",
       "    }\n",
       "</style>\n",
       "<table border=\"1\" class=\"dataframe\">\n",
       "  <thead>\n",
       "    <tr style=\"text-align: right;\">\n",
       "      <th></th>\n",
       "      <th>PRCP</th>\n",
       "      <th>LAT</th>\n",
       "      <th>LONG</th>\n",
       "      <th>HT</th>\n",
       "    </tr>\n",
       "  </thead>\n",
       "  <tbody>\n",
       "    <tr>\n",
       "      <th>2056-09-01 02:30:00</th>\n",
       "      <td>1105.0</td>\n",
       "      <td>-28.5314</td>\n",
       "      <td>153.3151</td>\n",
       "      <td>0.85</td>\n",
       "    </tr>\n",
       "    <tr>\n",
       "      <th>2056-09-01 02:45:00</th>\n",
       "      <td>1105.0</td>\n",
       "      <td>-28.5314</td>\n",
       "      <td>153.3151</td>\n",
       "      <td>1.31</td>\n",
       "    </tr>\n",
       "    <tr>\n",
       "      <th>2056-09-01 03:00:00</th>\n",
       "      <td>1611.0</td>\n",
       "      <td>-28.5314</td>\n",
       "      <td>153.3151</td>\n",
       "      <td>0.75</td>\n",
       "    </tr>\n",
       "    <tr>\n",
       "      <th>2056-09-01 03:15:00</th>\n",
       "      <td>1105.0</td>\n",
       "      <td>-28.5314</td>\n",
       "      <td>153.3151</td>\n",
       "      <td>0.91</td>\n",
       "    </tr>\n",
       "    <tr>\n",
       "      <th>2056-09-01 03:30:00</th>\n",
       "      <td>1105.0</td>\n",
       "      <td>-28.5314</td>\n",
       "      <td>153.3151</td>\n",
       "      <td>0.67</td>\n",
       "    </tr>\n",
       "  </tbody>\n",
       "</table>\n",
       "</div>"
      ],
      "text/plain": [
       "                       PRCP      LAT      LONG    HT\n",
       "2056-09-01 02:30:00  1105.0 -28.5314  153.3151  0.85\n",
       "2056-09-01 02:45:00  1105.0 -28.5314  153.3151  1.31\n",
       "2056-09-01 03:00:00  1611.0 -28.5314  153.3151  0.75\n",
       "2056-09-01 03:15:00  1105.0 -28.5314  153.3151  0.91\n",
       "2056-09-01 03:30:00  1105.0 -28.5314  153.3151  0.67"
      ]
     },
     "execution_count": 164,
     "metadata": {},
     "output_type": "execute_result"
    }
   ],
   "source": [
    "df.tail()"
   ]
  },
  {
   "cell_type": "code",
   "execution_count": 165,
   "id": "f9e87699",
   "metadata": {},
   "outputs": [
    {
     "data": {
      "text/plain": [
       "<bound method DataFrame.info of                        PRCP      LAT      LONG    HT\n",
       "2005-11-26 00:00:00  1411.0 -28.5031  153.3817  1.52\n",
       "2005-11-26 00:15:00  1411.0 -28.5031  153.3817  1.53\n",
       "2005-11-26 00:30:00  1411.0 -28.5031  153.3817  1.52\n",
       "2005-11-26 00:45:00  1411.0 -28.5031  153.3817  1.53\n",
       "2005-11-26 01:00:00  1411.0 -28.5031  153.3817  1.54\n",
       "...                     ...      ...       ...   ...\n",
       "2056-09-01 02:30:00  1105.0 -28.5314  153.3151  0.85\n",
       "2056-09-01 02:45:00  1105.0 -28.5314  153.3151  1.31\n",
       "2056-09-01 03:00:00  1611.0 -28.5314  153.3151  0.75\n",
       "2056-09-01 03:15:00  1105.0 -28.5314  153.3151  0.91\n",
       "2056-09-01 03:30:00  1105.0 -28.5314  153.3151  0.67\n",
       "\n",
       "[1780047 rows x 4 columns]>"
      ]
     },
     "execution_count": 165,
     "metadata": {},
     "output_type": "execute_result"
    }
   ],
   "source": [
    "df.info"
   ]
  },
  {
   "cell_type": "code",
   "execution_count": 167,
   "id": "229ab873",
   "metadata": {},
   "outputs": [],
   "source": [
    "df.to_csv('RainAccum_WL.csv')"
   ]
  },
  {
   "cell_type": "code",
   "execution_count": null,
   "id": "51694498",
   "metadata": {},
   "outputs": [],
   "source": []
  }
 ],
 "metadata": {
  "kernelspec": {
   "display_name": "Python 3 (ipykernel)",
   "language": "python",
   "name": "python3"
  },
  "language_info": {
   "codemirror_mode": {
    "name": "ipython",
    "version": 3
   },
   "file_extension": ".py",
   "mimetype": "text/x-python",
   "name": "python",
   "nbconvert_exporter": "python",
   "pygments_lexer": "ipython3",
   "version": "3.9.12"
  }
 },
 "nbformat": 4,
 "nbformat_minor": 5
}
